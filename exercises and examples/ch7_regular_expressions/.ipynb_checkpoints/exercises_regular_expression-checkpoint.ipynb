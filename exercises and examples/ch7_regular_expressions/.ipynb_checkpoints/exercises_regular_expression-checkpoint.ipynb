{
 "cells": [
  {
   "cell_type": "code",
   "execution_count": 3,
   "metadata": {},
   "outputs": [],
   "source": [
    "import re"
   ]
  },
  {
   "cell_type": "markdown",
   "metadata": {},
   "source": [
    "# Accession names"
   ]
  },
  {
   "cell_type": "code",
   "execution_count": 28,
   "metadata": {},
   "outputs": [
    {
     "name": "stdout",
     "output_type": "stream",
     "text": [
      "\"accessions = ['xkn59438', 'yhdck2', 'eihd39d9', 'chdsye847', 'hedle3455', 'xjhd53e', '45da', 'de37dp']\"\n",
      "\n",
      "\n",
      "xkn59438\n",
      "hedle3455\n",
      "xjhd53e\n",
      "45da\n",
      "\n",
      "\n",
      "yhdck2\n",
      "eihd39d9\n",
      "chdsye847\n",
      "hedle3455\n",
      "xjhd53e\n",
      "45da\n",
      "de37dp\n",
      "\n",
      "\n",
      "chdsye847\n",
      "hedle3455\n",
      "xjhd53e\n",
      "de37dp\n",
      "\n",
      "\n",
      "hedle3455\n",
      "\n",
      "\n",
      "eihd39d9\n",
      "chdsye847\n",
      "hedle3455\n",
      "xjhd53e\n",
      "de37dp\n",
      "\n",
      "\n",
      "xkn59438\n",
      "yhdck2\n",
      "xjhd53e\n",
      "\n",
      "\n",
      "xjhd53e\n",
      "\n",
      "\n",
      "xkn59438\n",
      "chdsye847\n",
      "hedle3455\n",
      "\n",
      "\n",
      "45da\n",
      "de37dp\n"
     ]
    }
   ],
   "source": [
    "file = open(\"exercises/accessions.txt\")\n",
    "content = file.read()\n",
    "print(repr(content))\n",
    "\n",
    "accessions = ['xkn59438', 'yhdck2', 'eihd39d9', 'chdsye847', 'hedle3455', 'xjhd53e', '45da', 'de37dp']\n",
    "print('\\n')\n",
    "\n",
    "# contain the number 5\n",
    "for acc in accessions:\n",
    "    if re.search(r\"5\", acc):\n",
    "        print(acc)\n",
    "print('\\n')\n",
    "\n",
    "# contain the letter d or e\n",
    "for acc in accessions:\n",
    "    if re.search(r\"[de]\", acc):\n",
    "        print(acc)\n",
    "print('\\n')\n",
    "        \n",
    "# contain the letters d and e in that order\n",
    "for acc in accessions:\n",
    "    if re.search(r\"d.*e\", acc):\n",
    "        print(acc)\n",
    "print('\\n')\n",
    "        \n",
    "# contain the letter d and e in that order with a single letter between them\n",
    "for acc in accessions:\n",
    "    if re.search(r\"d.e\", acc):\n",
    "        print(acc)\n",
    "print('\\n')\n",
    "        \n",
    "# contain both the letters d and e in any order\n",
    "for acc in accessions:\n",
    "    if re.search(r\"(d.*e|e.*d)\", acc):\n",
    "        print(acc)\n",
    "print('\\n')\n",
    "        \n",
    "# start wiht x or y\n",
    "for acc in accessions:\n",
    "    if re.search(r\"^(x|y)\", acc):\n",
    "        print(acc)\n",
    "print('\\n')\n",
    "        \n",
    "# start with x or y and end with e\n",
    "for acc in accessions:\n",
    "    if re.search(r\"^(x|y).*e$\", acc):\n",
    "        print(acc)\n",
    "print('\\n')\n",
    "        \n",
    "# contain three or more digits in a row\n",
    "for acc in accessions:\n",
    "    if re.search(r\"[0123456789]{3,}\", acc):\n",
    "        print(acc)\n",
    "print('\\n')\n",
    "\n",
    "# end with d followed by either a,r or p\n",
    "for acc in accessions:\n",
    "    if re.search(r\"d[arp]$\", acc):\n",
    "        print(acc)\n",
    "\n",
    "file.close()"
   ]
  },
  {
   "cell_type": "markdown",
   "metadata": {},
   "source": [
    "# Double digist"
   ]
  },
  {
   "cell_type": "code",
   "execution_count": 70,
   "metadata": {},
   "outputs": [
    {
     "name": "stdout",
     "output_type": "stream",
     "text": [
      "[0, 488, 1143, 1577, 1628]\n",
      "[488, 655, 434, 51]\n"
     ]
    }
   ],
   "source": [
    "dna = open(\"exercises/dna.txt\").read().rstrip()\n",
    "# print(repr(dna))\n",
    "\n",
    "# N = [ACGT], R = [AG], W = [AT]\n",
    "sequences = re.findall(r\"A[ACGT]TAAT\", dna) + re.findall(r\"GC[AG][AT]TG\", dna)\n",
    "# print(sequences)\n",
    "\n",
    "cut_sites = [0]\n",
    "for m1 in re.finditer(r\"A[ACGT]TAAT\", dna):\n",
    "    if m1:\n",
    "        cut_sites.append(m1.start()+3)\n",
    "for m2 in re.finditer(r\"GC[AG][AT]TG\", dna):\n",
    "    if m2:\n",
    "        cut_sites.append(m2.start()+4)\n",
    "\n",
    "cut_sites.sort()\n",
    "print(cut_sites)\n",
    "\n",
    "lenthes = []\n",
    "for pose in cut_sites:\n",
    "    idx = cut_sites.index(pose)\n",
    "    if idx > 0:\n",
    "        length = cut_sites[idx] - cut_sites[idx - 1]\n",
    "        lenthes.append(length)\n",
    "print(lenthes)"
   ]
  },
  {
   "cell_type": "markdown",
   "metadata": {},
   "source": [
    "# Double digist #2"
   ]
  },
  {
   "cell_type": "code",
   "execution_count": 5,
   "metadata": {},
   "outputs": [
    {
     "name": "stdout",
     "output_type": "stream",
     "text": [
      "[488, 655, 434, 51, 384]\n"
     ]
    }
   ],
   "source": [
    "# re.finditer() = re.search()를 for loop처리 한 후 매칭된 결과물을 list에 담고 있는 느낌\n",
    "# 따라서 매칭이 합하는 결과를 for x in re.finditer() 로 루프를 돌면서 list.append() 처리함\n",
    "# list.append() 할 때, argument에 re.search().group()와 같이 x.group()를 넣어줌 \n",
    "\n",
    "\n",
    "dna = open(\"exercises/dna.txt\").read().rstrip()\n",
    "cut_idx = [0, len(dna)]\n",
    "\n",
    "match_antaat = re.finditer(r\"A[ATGC]TAAT\", dna)\n",
    "for match_idx in match_antaat:\n",
    "    cut_idx.append(match_idx.start() + 3)\n",
    "\n",
    "match_gcrwtg = re.finditer(r\"GC[AG][AT]TG\", dna)\n",
    "for match_idx in match_gcrwtg:\n",
    "    cut_idx.append(match_idx.start() + 4)\n",
    "\n",
    "cut_idx.sort()\n",
    "frag_size = []\n",
    "\n",
    "for i in range(1, len(cut_idx)):\n",
    "    term = cut_idx[i]\n",
    "    pre_term = cut_idx[i-1]\n",
    "    length = term - pre_term\n",
    "    frag_size.append(length) \n",
    "    \n",
    "print(frag_size)"
   ]
  }
 ],
 "metadata": {
  "kernelspec": {
   "display_name": "Python 3",
   "language": "python",
   "name": "python3"
  },
  "language_info": {
   "codemirror_mode": {
    "name": "ipython",
    "version": 3
   },
   "file_extension": ".py",
   "mimetype": "text/x-python",
   "name": "python",
   "nbconvert_exporter": "python",
   "pygments_lexer": "ipython3",
   "version": "3.8.5"
  }
 },
 "nbformat": 4,
 "nbformat_minor": 4
}
