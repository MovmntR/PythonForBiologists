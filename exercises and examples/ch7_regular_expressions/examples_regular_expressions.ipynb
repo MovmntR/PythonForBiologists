{
 "cells": [
  {
   "cell_type": "code",
   "execution_count": 1,
   "metadata": {},
   "outputs": [],
   "source": [
    "import re"
   ]
  },
  {
   "cell_type": "code",
   "execution_count": 2,
   "metadata": {},
   "outputs": [
    {
     "name": "stdout",
     "output_type": "stream",
     "text": [
      "\t\n",
      "\n"
     ]
    }
   ],
   "source": [
    "print(\"\\t\\n\")"
   ]
  },
  {
   "cell_type": "code",
   "execution_count": 3,
   "metadata": {},
   "outputs": [
    {
     "name": "stdout",
     "output_type": "stream",
     "text": [
      "\\t\\n\n"
     ]
    }
   ],
   "source": [
    "# raw string : r\"   \" (incapacitating for special characters)\n",
    "\n",
    "print(r\"\\t\\n\")"
   ]
  },
  {
   "cell_type": "code",
   "execution_count": 4,
   "metadata": {},
   "outputs": [
    {
     "name": "stdout",
     "output_type": "stream",
     "text": [
      "restriction site found!\n"
     ]
    }
   ],
   "source": [
    "# re.search() : function (output : representing the result of a regular expression search, not a thing like a number or string)\n",
    "# even though it's not strictly nescessary using r\"  \"\n",
    "\n",
    "dna = \"ATCGCGAATTCAT\"\n",
    "if re.search(r\"GAATTC\", dna):\n",
    "    print(\"restriction site found!\")"
   ]
  },
  {
   "cell_type": "code",
   "execution_count": 5,
   "metadata": {},
   "outputs": [],
   "source": [
    "dna = \"ATCGCGAATTCAT\"\n",
    "if re.search(r\"GGACC\", dna) or re.search(r\"GGTCC\", dna):\n",
    "    print(\"restriction site found!\")"
   ]
  },
  {
   "cell_type": "code",
   "execution_count": 3,
   "metadata": {},
   "outputs": [],
   "source": [
    "# (A|T) : A or T\n",
    "\n",
    "dna = \"ATCGCGAATTCAT\"\n",
    "if re.search(r\"GG(A|T)CC\", dna):\n",
    "    print(\"restriction site found!\")"
   ]
  },
  {
   "cell_type": "code",
   "execution_count": 4,
   "metadata": {},
   "outputs": [],
   "source": [
    "# (A|T|G|C) = [ATGC] : A, T, G, or C\n",
    "\n",
    "dna = \"ATCGCGAATTCAT\"\n",
    "if re.search(r\"GC(A|T|G|C)GC\", dna):\n",
    "    print(\"restriction site found!\")\n",
    "    \n",
    "if re.search(r\"GC[ATGC]GC\", dna):\n",
    "    print(\"restriction site found!\")"
   ]
  },
  {
   "cell_type": "code",
   "execution_count": 9,
   "metadata": {},
   "outputs": [],
   "source": [
    "# . : a character whatever it is\n",
    "\n",
    "dna = \"ATCGCGAATTCAT\"\n",
    "if re.search(r\"GC.GC\", dna):\n",
    "    print(\"restriction site found!\")"
   ]
  },
  {
   "cell_type": "code",
   "execution_count": 10,
   "metadata": {},
   "outputs": [],
   "source": [
    "# [^XYZ] : any character, not A, X, Z\n",
    "\n",
    "dna = \"ATCGCGAATTCAT\"\n",
    "if re.search(r\"GC[^XYZ]GC\", dna):\n",
    "    print(\"restriction site found!\")"
   ]
  },
  {
   "cell_type": "code",
   "execution_count": 5,
   "metadata": {},
   "outputs": [],
   "source": [
    "# GAT?C : GATC or GAC\n",
    "\n",
    "dna = \"ATCGCGAATTCAT\"\n",
    "if re.search(r\"GAT?C\", dna):\n",
    "    print(\"restriction site found!\")"
   ]
  },
  {
   "cell_type": "code",
   "execution_count": 6,
   "metadata": {},
   "outputs": [],
   "source": [
    "# GGG(AAA)?TTT : GGGAAATTT or GGGTTT\n",
    "\n",
    "dna = \"ATCGCGAATTCAT\"\n",
    "if re.search(r\"GGG(AAA)?TTT\", dna):\n",
    "    print(\"restriction site found!\")"
   ]
  },
  {
   "cell_type": "code",
   "execution_count": 7,
   "metadata": {},
   "outputs": [],
   "source": [
    "# GGGA+TTT : GGGATTT, GGGAATTT, GGGAAATTT, ...\n",
    "\n",
    "dna = \"ATCGCGAATTCAT\"\n",
    "if re.search(r\"GGGA+TTT\", dna):\n",
    "    print(\"restriction site found!\")"
   ]
  },
  {
   "cell_type": "code",
   "execution_count": 8,
   "metadata": {},
   "outputs": [],
   "source": [
    "# GGGA*TTT : GGGTTT, GGGATTT, GGGAATTT, ...\n",
    "\n",
    "dna = \"ATCGCGAATTCAT\"\n",
    "if re.search(r\"GGGA*TTT\", dna):\n",
    "    print(\"restriction site found!\")"
   ]
  },
  {
   "cell_type": "code",
   "execution_count": 10,
   "metadata": {},
   "outputs": [],
   "source": [
    "# GA{5}T : GAAAAAT\n",
    "\n",
    "dna = \"ATCGCGAATTCAT\"\n",
    "if re.search(r\"GA{5}T\", dna):\n",
    "    print(\"restriction site found!\")"
   ]
  },
  {
   "cell_type": "code",
   "execution_count": 41,
   "metadata": {},
   "outputs": [
    {
     "name": "stdout",
     "output_type": "stream",
     "text": [
      "restriction site found!\n"
     ]
    }
   ],
   "source": [
    "# GA{2,4}T : GAAT, GAAAT, GAAAAT\n",
    "\n",
    "dna = \"ATCGCGAATTCAT\"\n",
    "if re.search(r\"GA{2,4}T\", dna):\n",
    "    print(\"restriction site found!\")"
   ]
  },
  {
   "cell_type": "code",
   "execution_count": 17,
   "metadata": {},
   "outputs": [],
   "source": [
    "# A{3,} : AAA, AAAA, AAAAA, ...\n",
    "\n",
    "dna = \"ATCGCGAATTCAT\"\n",
    "if re.search(r\"A{3,}\", dna):\n",
    "    print(\"restriction site found!\")"
   ]
  },
  {
   "cell_type": "code",
   "execution_count": 16,
   "metadata": {},
   "outputs": [
    {
     "name": "stdout",
     "output_type": "stream",
     "text": [
      "restriction site found!\n"
     ]
    }
   ],
   "source": [
    "# G{,7} : G, GG, GGG, ... , GGGGGGG\n",
    "dna = \"ATCGCGAATTCAT\"\n",
    "if re.search(r\"G{,7}\", dna):\n",
    "    print(\"restriction site found!\")"
   ]
  },
  {
   "cell_type": "code",
   "execution_count": 38,
   "metadata": {},
   "outputs": [],
   "source": [
    "# ^AAA : AAA + whatever \n",
    "\n",
    "dna = \"ATCGCGAATTCAT\"\n",
    "if re.search(\"^AAA\", dna):\n",
    "    print(\"restriction site found!\")"
   ]
  },
  {
   "cell_type": "code",
   "execution_count": 20,
   "metadata": {},
   "outputs": [],
   "source": [
    "# GGG$ : whatever + GGG\n",
    "\n",
    "dna = \"ATCGCGAATTCAT\"\n",
    "if re.search(r\"GGG$\", dna):\n",
    "    print(\"restriction site found!\")"
   ]
  },
  {
   "cell_type": "code",
   "execution_count": 9,
   "metadata": {},
   "outputs": [
    {
     "name": "stdout",
     "output_type": "stream",
     "text": [
      "False\n",
      "OK\n"
     ]
    }
   ],
   "source": [
    "# regular expression is just of a expression for paterns , not values of objects\n",
    "\n",
    "print(\"AUGCCCCCCCCCCCCCCCCCCCCCCCCCCCCCCAAAAAA\" == r\"^AUG[AUGC]{30,1000}A{5,10}$\")\n",
    "\n",
    "dna = \"AUGCCCCCCCCCCCCCCCCCCCCCCCCCCCCCCAAAAAA\"\n",
    "if re.search(r\"^AUG[AUGC]{30,1000}A{5,10}$\", dna):\n",
    "    print(\"OK\")"
   ]
  },
  {
   "cell_type": "code",
   "execution_count": 52,
   "metadata": {},
   "outputs": [
    {
     "name": "stdout",
     "output_type": "stream",
     "text": [
      "ambiguous base found!\n"
     ]
    }
   ],
   "source": [
    "dna = \"ATCGCGYAATCAC\"\n",
    "\n",
    "if re.search(r\"[^ATGC]\", dna):\n",
    "    print(\"ambiguous base found!\")"
   ]
  },
  {
   "cell_type": "code",
   "execution_count": 10,
   "metadata": {},
   "outputs": [
    {
     "name": "stdout",
     "output_type": "stream",
     "text": [
      "ambiguous base found!\n",
      "the base is Y\n"
     ]
    }
   ],
   "source": [
    "# .group() : method of re.search() (output : the thing what was searched from re.search())\n",
    "\n",
    "dna = \"ATCGCGYAATCAC\"\n",
    "m = re.search(r\"[^ATGC]\", dna)\n",
    "\n",
    "if m:\n",
    "    print(\"ambiguous base found!\")\n",
    "    ambig = m.group()\n",
    "    print(\"the base is \" + ambig)"
   ]
  },
  {
   "cell_type": "code",
   "execution_count": 11,
   "metadata": {},
   "outputs": [
    {
     "name": "stdout",
     "output_type": "stream",
     "text": [
      "Y\n"
     ]
    }
   ],
   "source": [
    "print(re.search(r\"[^ATGC]\", dna).group())"
   ]
  },
  {
   "cell_type": "code",
   "execution_count": 63,
   "metadata": {},
   "outputs": [
    {
     "name": "stdout",
     "output_type": "stream",
     "text": [
      "genus is Homo, species is sapiens\n"
     ]
    }
   ],
   "source": [
    "# .+ : whatever but once or more\n",
    "# re.search(\"(.+) (.+)\", ...) : serch for (two separate pattern), and we have a space inside of that\n",
    "\n",
    "scientific_name = \"Homo sapiens\"\n",
    "\n",
    "m = re.search(r\"(.+) (.+)\", scientific_name)\n",
    "\n",
    "if m:\n",
    "    genus = m.group(1)\n",
    "    species = m.group(2)\n",
    "    print(\"genus is \" + genus + \", species is \" + species)"
   ]
  },
  {
   "cell_type": "code",
   "execution_count": 66,
   "metadata": {},
   "outputs": [
    {
     "name": "stdout",
     "output_type": "stream",
     "text": [
      "ambiguous base found!\n",
      "at position 4\n"
     ]
    }
   ],
   "source": [
    "# .start() : method of re.search() (output : position index number that the searched thing starts)\n",
    "# .end() : method of re.search() (output : position index number that the searched thing ends)\n",
    "\n",
    "dna = \"CGATNCGGAACGATC\"\n",
    "m = re.search(r\"[^ATGC]\", dna)\n",
    "\n",
    "if m:\n",
    "    print(\"ambiguous base found!\")\n",
    "    print(\"at position \" + str(m.start()))"
   ]
  },
  {
   "cell_type": "code",
   "execution_count": 12,
   "metadata": {},
   "outputs": [],
   "source": [
    "# re.finditer() : function is the same as re.search(), but iteratior for whole string (output : regular expression search until the string finish)\n",
    "\n",
    "dna = \"CGCTCNTAGATGCGCRATGACTGCAYTGC\"\n",
    "\n",
    "matches = re.finditer(r\"[^ATGC]\", dna)"
   ]
  },
  {
   "cell_type": "code",
   "execution_count": 70,
   "metadata": {},
   "outputs": [
    {
     "name": "stdout",
     "output_type": "stream",
     "text": [
      "N found at position 5\n",
      "R found at position 15\n",
      "Y found at position 25\n"
     ]
    }
   ],
   "source": [
    "# If we want all the outputs, we have to use loop function. (re.finditer() looks like a list of many re.search())\n",
    "\n",
    "dna = \"CGCTCNTAGATGCGCRATGACTGCAYTGC\"\n",
    "\n",
    "matches = re.finditer(r\"[^ATGC]\", dna)\n",
    "\n",
    "for m in matches:\n",
    "    base = m.group()\n",
    "    pos = m.start()\n",
    "    print(base + \" found at position \" + str(pos))"
   ]
  },
  {
   "cell_type": "code",
   "execution_count": 74,
   "metadata": {},
   "outputs": [
    {
     "name": "stdout",
     "output_type": "stream",
     "text": [
      "['ATTATAT', 'AAATTATA']\n"
     ]
    }
   ],
   "source": [
    "dna = \"CTGCATTATATCGTACGAAATTATACGCGCG!\"\n",
    "\n",
    "matches = re.finditer(r\"[AT]{6,}\", dna)\n",
    "\n",
    "result = []\n",
    "for m in matches:\n",
    "    output = m.group()\n",
    "    result.append(output)\n",
    "\n",
    "print(result)"
   ]
  },
  {
   "cell_type": "code",
   "execution_count": 21,
   "metadata": {},
   "outputs": [
    {
     "name": "stdout",
     "output_type": "stream",
     "text": [
      "['ATTATAT', 'AAATTATA']\n"
     ]
    }
   ],
   "source": [
    "# re.findall() : re.search().group() -> iter -> make a list  \n",
    "\n",
    "dna = \"CTGCATTATATCGTACGAAATTATACGCGCG!\"\n",
    "\n",
    "matches = re.findall(r\"[AT]{6,}\", dna)\n",
    "print(matches)"
   ]
  },
  {
   "cell_type": "code",
   "execution_count": 78,
   "metadata": {},
   "outputs": [
    {
     "name": "stdout",
     "output_type": "stream",
     "text": [
      "ATTATAT\n"
     ]
    }
   ],
   "source": [
    "output = re.search(r\"[AT]{6,}\", dna).group()\n",
    "print(output)"
   ]
  },
  {
   "cell_type": "code",
   "execution_count": 79,
   "metadata": {},
   "outputs": [
    {
     "name": "stdout",
     "output_type": "stream",
     "text": [
      "['ACT', 'GCAT', 'GCTACGT', 'ACGAT', 'CGA', 'TCG']\n"
     ]
    }
   ],
   "source": [
    "# re.split() : function for spliting string with pattern(a kind of delimiter which is fixed), and making a list\n",
    "\n",
    "dna = \"ACTNGCATRGCTACGTYACGATSCGAWTCG\"\n",
    "runs = re.split(r\"[^ATGC]\", dna)\n",
    "print(runs)"
   ]
  }
 ],
 "metadata": {
  "kernelspec": {
   "display_name": "Python 3",
   "language": "python",
   "name": "python3"
  },
  "language_info": {
   "codemirror_mode": {
    "name": "ipython",
    "version": 3
   },
   "file_extension": ".py",
   "mimetype": "text/x-python",
   "name": "python",
   "nbconvert_exporter": "python",
   "pygments_lexer": "ipython3",
   "version": "3.8.5"
  }
 },
 "nbformat": 4,
 "nbformat_minor": 4
}
