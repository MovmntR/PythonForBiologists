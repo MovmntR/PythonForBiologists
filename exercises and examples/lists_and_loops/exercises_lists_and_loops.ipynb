{
 "cells": [
  {
   "cell_type": "markdown",
   "metadata": {},
   "source": [
    "# Processing DNA in a file"
   ]
  },
  {
   "cell_type": "code",
   "execution_count": 11,
   "metadata": {},
   "outputs": [
    {
     "name": "stdout",
     "output_type": "stream",
     "text": [
      "['ATTCGATTATAAGCTCGATCGATCGATCGATCGATCGATCGATCGATCGATCGATC\\n', 'ATTCGATTATAAGCACTGATCGATCGATCGATCGATCGATGCTATCGTCGT\\n', 'ATTCGATTATAAGCATCGATCACGATCTATCGTACGTATGCATATCGATATCGATCGTAGTC\\n', 'ATTCGATTATAAGCACTATCGATGATCTAGCTACGATCGTAGCTGTA\\n', 'ATTCGATTATAAGCACTAGCTAGTCTCGATGCATGATCAGCTTAGCTGATGATGCTATGCA\\n']\n"
     ]
    }
   ],
   "source": [
    "# file open and make a list\n",
    "\n",
    "file = open(\"exercises/input.txt\")\n",
    "dna_sequences = file.readlines()\n",
    "print(dna_sequences)"
   ]
  },
  {
   "cell_type": "code",
   "execution_count": 22,
   "metadata": {},
   "outputs": [
    {
     "name": "stdout",
     "output_type": "stream",
     "text": [
      "ATTCGATTATAAGCTCGATCGATCGATCGATCGATCGATCGATCGATCGATCGATC\n",
      " 57\n",
      "ATTCGATTATAAGCACTGATCGATCGATCGATCGATCGATGCTATCGTCGT\n",
      " 52\n",
      "ATTCGATTATAAGCATCGATCACGATCTATCGTACGTATGCATATCGATATCGATCGTAGTC\n",
      " 63\n",
      "ATTCGATTATAAGCACTATCGATGATCTAGCTACGATCGTAGCTGTA\n",
      " 48\n",
      "ATTCGATTATAAGCACTAGCTAGTCTCGATGCATGATCAGCTTAGCTGATGATGCTATGCA\n",
      " 62\n"
     ]
    }
   ],
   "source": [
    "# remove spacial character and check the length of each sequences\n",
    "\n",
    "dna = []\n",
    "length = []\n",
    "for seq in dna_sequences:\n",
    "    sequence = seq.rstrip()\n",
    "    dna.append(sequence)\n",
    "    print(seq, len(seq))"
   ]
  },
  {
   "cell_type": "code",
   "execution_count": 20,
   "metadata": {},
   "outputs": [
    {
     "name": "stdout",
     "output_type": "stream",
     "text": [
      "TCGATCGATCGATCGATCGATCGATCGATCGATCGATCGATC 42\n",
      "ACTGATCGATCGATCGATCGATCGATGCTATCGTCGT 37\n",
      "ATCGATCACGATCTATCGTACGTATGCATATCGATATCGATCGTAGTC 48\n",
      "ACTATCGATGATCTAGCTACGATCGTAGCTGTA 33\n",
      "ACTAGCTAGTCTCGATGCATGATCAGCTTAGCTGATGATGCTATGCA 47\n"
     ]
    }
   ],
   "source": [
    "# remove a sequencing adapter and print out sequences and the lenght of each sequence\n",
    "\n",
    "cleaned_sequences = []\n",
    "for seq in dna:\n",
    "    sequence = seq.replace(seq[:14], \"\")\n",
    "    cleaned_sequences.append(sequence)\n",
    "    print(sequence, len(sequence))"
   ]
  },
  {
   "cell_type": "code",
   "execution_count": 25,
   "metadata": {},
   "outputs": [],
   "source": [
    "# open a new file and save new data\n",
    "\n",
    "new_file = open(\"new_input.txt\", 'w')\n",
    "for seq in cleaned_sequences:\n",
    "    new_file.write(seq + \"\\n\")\n",
    "new_file.close()\n",
    "file.close()"
   ]
  },
  {
   "cell_type": "markdown",
   "metadata": {},
   "source": [
    "# Multiple exons from genomic DNA"
   ]
  },
  {
   "cell_type": "code",
   "execution_count": 31,
   "metadata": {},
   "outputs": [
    {
     "name": "stdout",
     "output_type": "stream",
     "text": [
      "['TCGATCGTACCGTCGACGATGCTACGATCGTCGATCGTAGTCGATCATCGATCGATCGACTGATCGATCGATCGATCGATCGATATCGATCGATATCATCGATGCATCGATCATCGATCGATCGATCGATCGATCGATCATATGTCAGTCGATGCATCGTAGCATCGTATAGTAGCTACGTAGCTACGATCGATCGATCGATCGTAGCTAGCTAGCTAGATCGATCATCATCGTAGCTAGCTCGACTAGCTACGTACGATCGATGCATCGATCGTAGCTAGTACGATCGCGTAGCTAGCATGCTACGTAGATCGATCGATGCATGCTAGCTAGCTAGCTACGATCGATCGATCGATCGATCGATCGATCGATCGATCGATCGTAGCTAGCTACGATCGATGCTACGTAGATCGATCGCTAGTAGATCGATCGCTAGCTAGCTGACTAGTACGCTGCTAGTAGTCAGCTAGATCGATGCTAGTCA\\n'] ['5,58\\n', '72,133\\n', '190,276\\n', '340,398\\n']\n"
     ]
    }
   ],
   "source": [
    "# open files and check data\n",
    "\n",
    "file_1 = open(\"exercises/genomic_dna.txt\")\n",
    "genomic_dna = file_1.readlines()\n",
    "file_2 = open(\"exercises/exons.txt\")\n",
    "positions = file_2.readlines()\n",
    "\n",
    "print(genomic_dna, positions)"
   ]
  },
  {
   "cell_type": "code",
   "execution_count": 43,
   "metadata": {},
   "outputs": [
    {
     "name": "stdout",
     "output_type": "stream",
     "text": [
      "[['5', '58'], ['72', '133'], ['190', '276'], ['340', '398']]\n",
      "TCGATCGTACCGTCGACGATGCTACGATCGTCGATCGTAGTCGATCATCGATCGATCGACTGATCGATCGATCGATCGATCGATATCGATCGATATCATCGATGCATCGATCATCGATCGATCGATCGATCGATCGATCATATGTCAGTCGATGCATCGTAGCATCGTATAGTAGCTACGTAGCTACGATCGATCGATCGATCGTAGCTAGCTAGCTAGATCGATCATCATCGTAGCTAGCTCGACTAGCTACGTACGATCGATGCATCGATCGTAGCTAGTACGATCGCGTAGCTAGCATGCTACGTAGATCGATCGATGCATGCTAGCTAGCTAGCTACGATCGATCGATCGATCGATCGATCGATCGATCGATCGATCGTAGCTAGCTACGATCGATGCTACGTAGATCGATCGCTAGTAGATCGATCGCTAGCTAGCTGACTAGTACGCTGCTAGTAGTCAGCTAGATCGATGCTAGTCA\n"
     ]
    }
   ],
   "source": [
    "# remove the special characters and split combining data\n",
    "\n",
    "new_positions = []\n",
    "for position in positions:\n",
    "    pos = position.rstrip().split(\",\")\n",
    "    new_positions.append(pos)\n",
    "print(new_positions)\n",
    "\n",
    "new_dna = genomic_dna[0].rstrip()\n",
    "print(new_dna)"
   ]
  },
  {
   "cell_type": "code",
   "execution_count": 60,
   "metadata": {},
   "outputs": [
    {
     "name": "stdout",
     "output_type": "stream",
     "text": [
      "CGTACCGTCGACGATGCTACGATCGTCGATCGTAGTCGATCATCGATCGATCGACGATCGATCGATATCGATCGATATCATCGATGCATCGATCATCGATCGATCGATCGATCGATCGATCGATCGATCGTAGCTAGCTAGCTAGATCGATCATCATCGTAGCTAGCTCGACTAGCTACGTACGATCGATGCATCGATCGTAGCGATCGATCGATCGATCGATCGATCGATCGATCGATCGATCGTAGCTAGCTACGATCGA\n"
     ]
    }
   ],
   "source": [
    "# extract exon part using start and end index and concatenate all the exon sequences together\n",
    "\n",
    "exon_seq = \"\"\n",
    "for index in new_positions:\n",
    "    exon = new_dna[int(index[0]) : int(index[1])+1]\n",
    "    exon_seq = exon_seq + exon\n",
    "print(exon_seq)"
   ]
  },
  {
   "cell_type": "code",
   "execution_count": 62,
   "metadata": {},
   "outputs": [],
   "source": [
    "# save output onto another file\n",
    "\n",
    "file_output = open(\"exon_sequences_only.txt\", 'w')\n",
    "file_output.write(exon_seq)\n",
    "file_output.close()\n",
    "file_1.close()\n",
    "file_2.close()"
   ]
  }
 ],
 "metadata": {
  "kernelspec": {
   "display_name": "Python 3",
   "language": "python",
   "name": "python3"
  },
  "language_info": {
   "codemirror_mode": {
    "name": "ipython",
    "version": 3
   },
   "file_extension": ".py",
   "mimetype": "text/x-python",
   "name": "python",
   "nbconvert_exporter": "python",
   "pygments_lexer": "ipython3",
   "version": "3.8.5"
  }
 },
 "nbformat": 4,
 "nbformat_minor": 4
}
