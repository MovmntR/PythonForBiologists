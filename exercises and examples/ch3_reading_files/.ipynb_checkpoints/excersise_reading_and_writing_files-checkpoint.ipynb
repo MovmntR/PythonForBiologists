{
 "cells": [
  {
   "cell_type": "markdown",
   "metadata": {},
   "source": [
    "# Splitting genomic DNA"
   ]
  },
  {
   "cell_type": "code",
   "execution_count": 29,
   "metadata": {},
   "outputs": [
    {
     "name": "stdout",
     "output_type": "stream",
     "text": [
      "ATCGATCGATCGATCGACTGACTAGTCATAGCTATGCATGTAGCTACTCGATCGATCGATCGATCGATCGATCGATCGATCGATCATGCTATCATCGATCGATATCGATGCATCGACTACTAT\n",
      "ATCGATCGATCGATCGACTGACTAGTCATAGCTATGCATGTAGCTACTCGATCGATCGATCGAATCATCGATCGATATCGATGCATCGACTACTAT TCGATCGATCGATCGATCGATCATGCT\n"
     ]
    }
   ],
   "source": [
    "# open file\n",
    "file_name = \"genomic_dna.txt\"\n",
    "file_contents = open(\"exercises/\"+file_name, 'r')\n",
    "genomic_dna = file_contents.read().rstrip()\n",
    "print(genomic_dna)\n",
    "\n",
    "# split into coding and non-coding\n",
    "first_exon = genomic_dna[:63]\n",
    "second_exon = genomic_dna[90:]\n",
    "non_coding = genomic_dna[63:90]\n",
    "coding = first_exon + second_exon\n",
    "print(coding, non_coding)\n",
    "\n",
    "# write two separate files\n",
    "coding_file = open(\"coding_part\", 'w')\n",
    "coding_file.write(coding)\n",
    "non_coding_file = open('non_coding_part', 'w')\n",
    "non_coding_file.write(non_coding)\n",
    "\n",
    "file_contents.close()"
   ]
  },
  {
   "cell_type": "markdown",
   "metadata": {},
   "source": [
    "# Writing a FASTA file"
   ]
  },
  {
   "cell_type": "code",
   "execution_count": 39,
   "metadata": {},
   "outputs": [
    {
     "data": {
      "text/plain": [
       "109"
      ]
     },
     "execution_count": 39,
     "metadata": {},
     "output_type": "execute_result"
    }
   ],
   "source": [
    "# data\n",
    "sequence_header_first = \"ABC123\"\n",
    "sequence_header_second = \"DEF456\"\n",
    "sequence_header_third = \"HIJ789\"\n",
    "dna_sequence_first = \"ATCGTACGATCGATCGATCGCTAGACGTATCG\"\n",
    "dna_sequence_second = \"actgatcgacgatcgatcgatcacgact\"\n",
    "dna_sequence_third = \"ACTGAC-ACTGT--ACTGTA----CATGTG\"\n",
    "\n",
    "# print headers and sequences\n",
    "first_sequence = \">\" + sequence_header_first + '\\n' + dna_sequence_first\n",
    "second_sequence = \">\" + sequence_header_second + '\\n' + dna_sequence_second.upper()\n",
    "third_sequence = \">\" + sequence_header_third + '\\n' + dna_sequence_third.replace('-', '')\n",
    "total = first_sequence + '\\n' + second_sequence + '\\n' + third_sequence\n",
    "\n",
    "# creat a FASTA file\n",
    "file = open(\"fasta_file.fasta\", 'w')\n",
    "file.write(total)"
   ]
  },
  {
   "cell_type": "markdown",
   "metadata": {},
   "source": [
    "# Writing multiple FASTA files"
   ]
  },
  {
   "cell_type": "code",
   "execution_count": 40,
   "metadata": {},
   "outputs": [
    {
     "data": {
      "text/plain": [
       "31"
      ]
     },
     "execution_count": 40,
     "metadata": {},
     "output_type": "execute_result"
    }
   ],
   "source": [
    "open(\"ABC123.fasta\", 'w').write(\">\" + sequence_header_first + \"\\n\" + dna_sequence_first)\n",
    "open(\"DEF456.fasta\", 'w').write(\">\" + sequence_header_second + \"\\n\" + dna_sequence_second.upper())\n",
    "open(\"HIJ789.fasta\", 'w').write(\">\" + sequence_header_third + \"\\n\" + dna_sequence_third.replace('-', ''))"
   ]
  }
 ],
 "metadata": {
  "kernelspec": {
   "display_name": "Python 3",
   "language": "python",
   "name": "python3"
  },
  "language_info": {
   "codemirror_mode": {
    "name": "ipython",
    "version": 3
   },
   "file_extension": ".py",
   "mimetype": "text/x-python",
   "name": "python",
   "nbconvert_exporter": "python",
   "pygments_lexer": "ipython3",
   "version": "3.8.5"
  }
 },
 "nbformat": 4,
 "nbformat_minor": 4
}
