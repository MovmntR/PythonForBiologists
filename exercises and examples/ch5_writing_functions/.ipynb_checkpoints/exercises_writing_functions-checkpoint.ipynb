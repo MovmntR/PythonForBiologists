{
 "cells": [
  {
   "cell_type": "code",
   "execution_count": 4,
   "metadata": {},
   "outputs": [
    {
     "name": "stdout",
     "output_type": "stream",
     "text": [
      "# assert statements for part one\n",
      "\n",
      "assert my_function(\"MSRSLLLRFLLFLLLLPPLP\", \"M\") == 5\n",
      "assert my_function(\"MSRSLLLRFLLFLLLLPPLP\", \"r\") == 10\n",
      "assert my_function(\"msrslllrfllfllllpplp\", \"L\") == 50\n",
      "assert my_function(\"MSRSLLLRFLLFLLLLPPLP\", \"Y\") == 0\n",
      "\n",
      "# assert statements for part two\n",
      "assert my_function(\"MSRSLLLRFLLFLLLLPPLP\", [\"M\"]) == 5\n",
      "assert my_function(\"MSRSLLLRFLLFLLLLPPLP\", ['M', 'L']) == 55\n",
      "assert my_function(\"MSRSLLLRFLLFLLLLPPLP\", ['F', 'S', 'L']) == 70\n",
      "assert my_function(\"MSRSLLLRFLLFLLLLPPLP\") == 65\n",
      "\n"
     ]
    }
   ],
   "source": [
    "file = open(\"exercises/assert_statements.txt\")\n",
    "assert_lines = file.read()\n",
    "print(assert_lines)\n",
    "file.close()"
   ]
  },
  {
   "cell_type": "markdown",
   "metadata": {},
   "source": [
    "# Percentage of amino acid residues, part one"
   ]
  },
  {
   "cell_type": "code",
   "execution_count": 25,
   "metadata": {},
   "outputs": [],
   "source": [
    "def percentage_of_amino(protein, amino_acid):\n",
    "    total = len(protein)\n",
    "    count_ami = protein.upper().count(amino_acid.upper())\n",
    "    percentage = count_ami / total * 100\n",
    "    return percentage"
   ]
  },
  {
   "cell_type": "code",
   "execution_count": 33,
   "metadata": {},
   "outputs": [
    {
     "name": "stdout",
     "output_type": "stream",
     "text": [
      "assert percentage_of_amino(\"MSRSLLLRFLLFLLLLPPLP\", \"M\") == 5\n",
      "assert percentage_of_amino(\"MSRSLLLRFLLFLLLLPPLP\", \"r\") == 10\n",
      "assert percentage_of_amino(\"msrslllrfllfllllpplp\", \"L\") == 50\n",
      "assert percentage_of_amino(\"MSRSLLLRFLLFLLLLPPLP\", \"Y\") == 0\n"
     ]
    }
   ],
   "source": [
    "assert_one = open(\"exercises/assert_statements.txt\").readlines()\n",
    "assert_one = assert_one[2:6]\n",
    "\n",
    "for ass in assert_one:\n",
    "    ass = ass.rstrip().replace(\"my_function\", \"percentage_of_amino\")\n",
    "    print(ass)"
   ]
  },
  {
   "cell_type": "code",
   "execution_count": 27,
   "metadata": {},
   "outputs": [],
   "source": [
    "assert percentage_of_amino(\"MSRSLLLRFLLFLLLLPPLP\", \"M\") == 5"
   ]
  },
  {
   "cell_type": "code",
   "execution_count": 28,
   "metadata": {},
   "outputs": [],
   "source": [
    "assert percentage_of_amino(\"MSRSLLLRFLLFLLLLPPLP\", \"r\") == 10"
   ]
  },
  {
   "cell_type": "code",
   "execution_count": 29,
   "metadata": {},
   "outputs": [],
   "source": [
    "assert percentage_of_amino(\"msrslllrfllfllllpplp\", \"L\") == 50"
   ]
  },
  {
   "cell_type": "code",
   "execution_count": 30,
   "metadata": {},
   "outputs": [],
   "source": [
    "assert percentage_of_amino(\"MSRSLLLRFLLFLLLLPPLP\", \"Y\") == 0"
   ]
  },
  {
   "cell_type": "markdown",
   "metadata": {},
   "source": [
    "# Percentage of amino acid residues, part two"
   ]
  },
  {
   "cell_type": "code",
   "execution_count": 51,
   "metadata": {},
   "outputs": [],
   "source": [
    "def percentage_of_hydro_amino(protein, amino_acid = [\"A\", \"I\", \"L\", \"M\", \"F\", \"W\", \"Y\", \"V\"]):\n",
    "    total = len(protein)\n",
    "    total_ami = 0\n",
    "    \n",
    "    for ami in amino_acid:\n",
    "        count_ami = protein.upper().count(ami.upper())\n",
    "        total_ami = total_ami + count_ami\n",
    "    \n",
    "    percentage = total_ami / total * 100                 # ( percentage = total_ami * 100 / total ) 으로 작성하면 AssertionError 사라짐.\n",
    "    \n",
    "    return percentage"
   ]
  },
  {
   "cell_type": "code",
   "execution_count": 39,
   "metadata": {},
   "outputs": [
    {
     "name": "stdout",
     "output_type": "stream",
     "text": [
      "assert percentage_of_hydro_amino(\"MSRSLLLRFLLFLLLLPPLP\", [\"M\"]) == 5\n",
      "assert percentage_of_hydro_amino(\"MSRSLLLRFLLFLLLLPPLP\", ['M', 'L']) == 55\n",
      "assert percentage_of_hydro_amino(\"MSRSLLLRFLLFLLLLPPLP\", ['F', 'S', 'L']) == 70\n",
      "assert percentage_of_hydro_amino(\"MSRSLLLRFLLFLLLLPPLP\") == 65\n"
     ]
    }
   ],
   "source": [
    "assert_two = open(\"exercises/assert_statements.txt\").readlines()\n",
    "assert_two = assert_two[8:12]\n",
    "\n",
    "for ass in assert_two:\n",
    "    ass = ass.rstrip().replace(\"my_function\", \"percentage_of_hydro_amino\")\n",
    "    print(ass)"
   ]
  },
  {
   "cell_type": "code",
   "execution_count": 42,
   "metadata": {},
   "outputs": [],
   "source": [
    "assert percentage_of_hydro_amino(\"MSRSLLLRFLLFLLLLPPLP\", [\"M\"]) == 5"
   ]
  },
  {
   "cell_type": "code",
   "execution_count": 52,
   "metadata": {},
   "outputs": [
    {
     "ename": "AssertionError",
     "evalue": "",
     "output_type": "error",
     "traceback": [
      "\u001b[0;31m---------------------------------------------------------------------------\u001b[0m",
      "\u001b[0;31mAssertionError\u001b[0m                            Traceback (most recent call last)",
      "\u001b[0;32m<ipython-input-52-050a331f9dcf>\u001b[0m in \u001b[0;36m<module>\u001b[0;34m\u001b[0m\n\u001b[0;32m----> 1\u001b[0;31m \u001b[0;32massert\u001b[0m \u001b[0mpercentage_of_hydro_amino\u001b[0m\u001b[0;34m(\u001b[0m\u001b[0;34m\"MSRSLLLRFLLFLLLLPPLP\"\u001b[0m\u001b[0;34m,\u001b[0m \u001b[0;34m[\u001b[0m\u001b[0;34m'M'\u001b[0m\u001b[0;34m,\u001b[0m \u001b[0;34m'L'\u001b[0m\u001b[0;34m]\u001b[0m\u001b[0;34m)\u001b[0m \u001b[0;34m==\u001b[0m \u001b[0;36m55\u001b[0m \u001b[0;31m# 부동소수의 한계 (https://docs.python.org/ko/3/tutorial/floatingpoint.html)\u001b[0m\u001b[0;34m\u001b[0m\u001b[0;34m\u001b[0m\u001b[0m\n\u001b[0m",
      "\u001b[0;31mAssertionError\u001b[0m: "
     ]
    }
   ],
   "source": [
    "assert percentage_of_hydro_amino(\"MSRSLLLRFLLFLLLLPPLP\", ['M', 'L']) == 55 # 부동소수의 한계 (https://docs.python.org/ko/3/tutorial/floatingpoint.html)"
   ]
  },
  {
   "cell_type": "code",
   "execution_count": 44,
   "metadata": {},
   "outputs": [],
   "source": [
    "assert percentage_of_hydro_amino(\"MSRSLLLRFLLFLLLLPPLP\", ['F', 'S', 'L']) == 70"
   ]
  },
  {
   "cell_type": "code",
   "execution_count": 45,
   "metadata": {},
   "outputs": [],
   "source": [
    "assert percentage_of_hydro_amino(\"MSRSLLLRFLLFLLLLPPLP\") == 65"
   ]
  }
 ],
 "metadata": {
  "kernelspec": {
   "display_name": "Python 3",
   "language": "python",
   "name": "python3"
  },
  "language_info": {
   "codemirror_mode": {
    "name": "ipython",
    "version": 3
   },
   "file_extension": ".py",
   "mimetype": "text/x-python",
   "name": "python",
   "nbconvert_exporter": "python",
   "pygments_lexer": "ipython3",
   "version": "3.8.5"
  }
 },
 "nbformat": 4,
 "nbformat_minor": 4
}
