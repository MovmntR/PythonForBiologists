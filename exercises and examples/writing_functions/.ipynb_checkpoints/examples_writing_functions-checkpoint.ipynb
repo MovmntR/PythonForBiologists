{
 "cells": [
  {
   "cell_type": "code",
   "execution_count": 1,
   "metadata": {},
   "outputs": [
    {
     "name": "stdout",
     "output_type": "stream",
     "text": [
      "AT content is 0.6851851851851852\n"
     ]
    }
   ],
   "source": [
    "my_dna = \"ACTGATCGATTACGTATAGTATTTGCTATCATACATATATATCGATGCGTTCAT\"\n",
    "\n",
    "length = len(my_dna)\n",
    "a_count = my_dna.count(\"A\")\n",
    "c_count = my_dna.count(\"T\")\n",
    "at_content = (a_count + c_count) / length\n",
    "\n",
    "print(\"AT content is \" + str(at_content))"
   ]
  },
  {
   "cell_type": "code",
   "execution_count": 2,
   "metadata": {},
   "outputs": [],
   "source": [
    "def get_at_content(dna):\n",
    "    length = len(my_dna)\n",
    "    a_count = my_dna.count(\"A\")\n",
    "    c_count = my_dna.count(\"T\")\n",
    "    at_content = (a_count + c_count) / length\n",
    "    return at_content"
   ]
  },
  {
   "cell_type": "code",
   "execution_count": 6,
   "metadata": {},
   "outputs": [
    {
     "name": "stdout",
     "output_type": "stream",
     "text": [
      "0.6851851851851852\n",
      "0.6851851851851852\n",
      "0.6851851851851852\n"
     ]
    }
   ],
   "source": [
    "my_at_content = get_at_content(\"ATGCGCGATCGATCGAATCG\")\n",
    "print(str(my_at_content))\n",
    "      \n",
    "print(get_at_content(\"ATGCGCGATCGATCGAATCG\"))\n",
    "print(get_at_content(\"atgcgcgatcgatcgaatcg\"))"
   ]
  },
  {
   "cell_type": "code",
   "execution_count": 9,
   "metadata": {},
   "outputs": [],
   "source": [
    "def get_at_content(dna, sig_figs):\n",
    "    length = len(my_dna)\n",
    "    a_count = my_dna.upper().count(\"A\")\n",
    "    c_count = my_dna.upper().count(\"T\")\n",
    "    at_content = (a_count + c_count) / length\n",
    "    return round(at_content, sig_figs)"
   ]
  },
  {
   "cell_type": "code",
   "execution_count": 11,
   "metadata": {},
   "outputs": [
    {
     "name": "stdout",
     "output_type": "stream",
     "text": [
      "0.685\n"
     ]
    }
   ],
   "source": [
    "print(get_at_content(\"ATGCGCGATCGATCGAATCG\", 3))"
   ]
  }
 ],
 "metadata": {
  "kernelspec": {
   "display_name": "Python 3",
   "language": "python",
   "name": "python3"
  },
  "language_info": {
   "codemirror_mode": {
    "name": "ipython",
    "version": 3
   },
   "file_extension": ".py",
   "mimetype": "text/x-python",
   "name": "python",
   "nbconvert_exporter": "python",
   "pygments_lexer": "ipython3",
   "version": "3.8.5"
  }
 },
 "nbformat": 4,
 "nbformat_minor": 4
}
