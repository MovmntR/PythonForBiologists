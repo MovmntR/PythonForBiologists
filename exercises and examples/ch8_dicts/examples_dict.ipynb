{
 "cells": [
  {
   "cell_type": "code",
   "execution_count": 6,
   "metadata": {},
   "outputs": [
    {
     "name": "stdout",
     "output_type": "stream",
     "text": [
      "count for AA is 0\n",
      "count for AT is 3\n",
      "count for AG is 1\n",
      "count for AC is 0\n",
      "count for TA is 0\n",
      "count for TT is 0\n",
      "count for TG is 2\n",
      "count for TC is 2\n",
      "count for GA is 4\n",
      "count for GT is 1\n",
      "count for GG is 0\n",
      "count for GC is 0\n",
      "count for CA is 0\n",
      "count for CT is 0\n",
      "count for CG is 2\n",
      "count for CC is 0\n"
     ]
    }
   ],
   "source": [
    "dna = \"ATGATCGATCGAGTGA\"\n",
    "dinucleotides = [\"AA\", \"AT\", \"AG\", \"AC\",\n",
    "                \"TA\", \"TT\", \"TG\", \"TC\",\n",
    "                \"GA\", \"GT\", \"GG\", \"GC\",\n",
    "                \"CA\", \"CT\", \"CG\", \"CC\"]\n",
    "\n",
    "all_counts = []\n",
    "for dinucleotide in dinucleotides:\n",
    "    count = dna.count(dinucleotide)\n",
    "    all_counts.append(count)\n",
    "    print(\"count for \" + str(dinucleotide) + \" is \" + str(count))"
   ]
  },
  {
   "cell_type": "code",
   "execution_count": 7,
   "metadata": {},
   "outputs": [
    {
     "name": "stdout",
     "output_type": "stream",
     "text": [
      "[0, 3, 1, 0, 0, 0, 2, 2, 4, 1, 0, 0, 0, 0, 2, 0]\n"
     ]
    }
   ],
   "source": [
    "print(all_counts)"
   ]
  },
  {
   "cell_type": "code",
   "execution_count": 13,
   "metadata": {},
   "outputs": [
    {
     "name": "stdout",
     "output_type": "stream",
     "text": [
      "count for TG is 2\n",
      "count for TG is 2\n"
     ]
    }
   ],
   "source": [
    "print(\"count for TG is \" + str(all_counts[7]))\n",
    "\n",
    "idx = dinucleotides.index(\"TG\")\n",
    "print(\"count for TG is \" + str(all_counts[idx]))"
   ]
  },
  {
   "cell_type": "code",
   "execution_count": 16,
   "metadata": {},
   "outputs": [
    {
     "name": "stdout",
     "output_type": "stream",
     "text": [
      "{'EcoR1': 'GAATTC', 'Ava2': 'GG(A|T)CC', 'Bis1': 'GC[ATGC]GC'}\n",
      "GC[ATGC]GC\n"
     ]
    }
   ],
   "source": [
    "enzymes1 = {\n",
    "    'EcoR1' : r'GAATTC',\n",
    "    'Ava2' : r'GG(A|T)CC',\n",
    "    'Bis1' : r'GC[ATGC]GC'\n",
    "}\n",
    "\n",
    "print(enzymes1)\n",
    "print(enzymes1['Bis1'])"
   ]
  },
  {
   "cell_type": "code",
   "execution_count": 27,
   "metadata": {},
   "outputs": [
    {
     "name": "stdout",
     "output_type": "stream",
     "text": [
      "{'EcoR1': 'GAATTC', 'Ava2': 'GG(A|T)CC', 'Bis1': 'GC[ATGC]GC'}\n",
      "GC[ATGC]GC\n"
     ]
    }
   ],
   "source": [
    "enzymes2 = {}\n",
    "enzymes2['EcoR1'] = r'GAATTC'\n",
    "enzymes2['Ava2'] = r'GG(A|T)CC'\n",
    "enzymes2['Bis1'] = r'GC[ATGC]GC'\n",
    "\n",
    "print(enzymes2)\n",
    "print(enzymes2['Bis1'])"
   ]
  },
  {
   "cell_type": "code",
   "execution_count": 28,
   "metadata": {},
   "outputs": [
    {
     "name": "stdout",
     "output_type": "stream",
     "text": [
      "GAATTC\n",
      "{'Ava2': 'GG(A|T)CC', 'Bis1': 'GC[ATGC]GC'}\n"
     ]
    }
   ],
   "source": [
    "# .pop() -> dict method for returning the value and deleting the item.\n",
    "\n",
    "print(enzymes2.pop('EcoR1'))\n",
    "print(enzymes2)"
   ]
  },
  {
   "cell_type": "code",
   "execution_count": 39,
   "metadata": {},
   "outputs": [
    {
     "name": "stdout",
     "output_type": "stream",
     "text": [
      "count for AA is 0\n",
      "count for AT is 3\n",
      "count for AG is 1\n",
      "count for AC is 0\n",
      "count for TA is 0\n",
      "count for TT is 0\n",
      "count for TG is 2\n",
      "count for TC is 2\n",
      "count for GA is 4\n",
      "count for GT is 1\n",
      "count for GG is 0\n",
      "count for GC is 0\n",
      "count for CA is 0\n",
      "count for CT is 0\n",
      "count for CG is 2\n",
      "count for CC is 0\n",
      "{'AA': 0, 'AT': 3, 'AG': 1, 'AC': 0, 'TA': 0, 'TT': 0, 'TG': 2, 'TC': 2, 'GA': 4, 'GT': 1, 'GG': 0, 'GC': 0, 'CA': 0, 'CT': 0, 'CG': 2, 'CC': 0}\n"
     ]
    }
   ],
   "source": [
    "dna = \"ATGATCGATCGAGTGA\"\n",
    "dinucleotides = [\"AA\", \"AT\", \"AG\", \"AC\",\n",
    "                \"TA\", \"TT\", \"TG\", \"TC\",\n",
    "                \"GA\", \"GT\", \"GG\", \"GC\",\n",
    "                \"CA\", \"CT\", \"CG\", \"CC\"]\n",
    "\n",
    "all_counts = {}\n",
    "for dinucleotide in dinucleotides:\n",
    "    count = dna.count(dinucleotide)\n",
    "    all_counts[dinucleotide] = count\n",
    "    print(\"count for \" + str(dinucleotide) + \" is \" + str(count))\n",
    "    \n",
    "print(all_counts)"
   ]
  },
  {
   "cell_type": "code",
   "execution_count": 40,
   "metadata": {},
   "outputs": [
    {
     "name": "stdout",
     "output_type": "stream",
     "text": [
      "0\n"
     ]
    }
   ],
   "source": [
    "print(all_counts['TA'])"
   ]
  },
  {
   "cell_type": "code",
   "execution_count": 41,
   "metadata": {},
   "outputs": [
    {
     "name": "stdout",
     "output_type": "stream",
     "text": [
      "count for AA is 0\n",
      "count for AT is 3\n",
      "count for AG is 1\n",
      "count for AC is 0\n",
      "count for TA is 0\n",
      "count for TT is 0\n",
      "count for TG is 2\n",
      "count for TC is 2\n",
      "count for GA is 4\n",
      "count for GT is 1\n",
      "count for GG is 0\n",
      "count for GC is 0\n",
      "count for CA is 0\n",
      "count for CT is 0\n",
      "count for CG is 2\n",
      "count for CC is 0\n"
     ]
    }
   ],
   "source": [
    "dna = \"ATGATCGATCGAGTGA\"\n",
    "dinucleotides = [\"AA\", \"AT\", \"AG\", \"AC\",\n",
    "                \"TA\", \"TT\", \"TG\", \"TC\",\n",
    "                \"GA\", \"GT\", \"GG\", \"GC\",\n",
    "                \"CA\", \"CT\", \"CG\", \"CC\"]\n",
    "\n",
    "all_counts = {}\n",
    "for dinucleotide in dinucleotides:\n",
    "    count = dna.count(dinucleotide)\n",
    "    if count > 0 :\n",
    "        all_counts[dinucleotide] = count\n",
    "    print(\"count for \" + str(dinucleotide) + \" is \" + str(count))"
   ]
  },
  {
   "cell_type": "code",
   "execution_count": 42,
   "metadata": {},
   "outputs": [
    {
     "name": "stdout",
     "output_type": "stream",
     "text": [
      "{'AT': 3, 'AG': 1, 'TG': 2, 'TC': 2, 'GA': 4, 'GT': 1, 'CG': 2}\n"
     ]
    }
   ],
   "source": [
    "print(all_counts)"
   ]
  },
  {
   "cell_type": "code",
   "execution_count": 48,
   "metadata": {},
   "outputs": [
    {
     "ename": "KeyError",
     "evalue": "'TA'",
     "output_type": "error",
     "traceback": [
      "\u001b[0;31m---------------------------------------------------------------------------\u001b[0m",
      "\u001b[0;31mKeyError\u001b[0m                                  Traceback (most recent call last)",
      "\u001b[0;32m<ipython-input-48-4658c11b9e96>\u001b[0m in \u001b[0;36m<module>\u001b[0;34m\u001b[0m\n\u001b[0;32m----> 1\u001b[0;31m \u001b[0mprint\u001b[0m\u001b[0;34m(\u001b[0m\u001b[0;34m\"count for TA is \"\u001b[0m \u001b[0;34m+\u001b[0m \u001b[0mstr\u001b[0m\u001b[0;34m(\u001b[0m\u001b[0mall_counts\u001b[0m\u001b[0;34m[\u001b[0m\u001b[0;34m\"TA\"\u001b[0m\u001b[0;34m]\u001b[0m\u001b[0;34m)\u001b[0m\u001b[0;34m)\u001b[0m\u001b[0;34m\u001b[0m\u001b[0;34m\u001b[0m\u001b[0m\n\u001b[0m",
      "\u001b[0;31mKeyError\u001b[0m: 'TA'"
     ]
    }
   ],
   "source": [
    "print(\"count for TA is \" + str(all_counts[\"TA\"]))"
   ]
  },
  {
   "cell_type": "code",
   "execution_count": 49,
   "metadata": {},
   "outputs": [
    {
     "name": "stdout",
     "output_type": "stream",
     "text": [
      "count for TC is 2\n"
     ]
    }
   ],
   "source": [
    "print(\"count for TC is \" + str(all_counts[\"TC\"]))"
   ]
  },
  {
   "cell_type": "code",
   "execution_count": 52,
   "metadata": {},
   "outputs": [
    {
     "name": "stdout",
     "output_type": "stream",
     "text": [
      "0\n"
     ]
    }
   ],
   "source": [
    "if 'TA' in all_counts:\n",
    "    print(all_counts['TA'])\n",
    "else:\n",
    "    print(0)"
   ]
  },
  {
   "cell_type": "code",
   "execution_count": 54,
   "metadata": {},
   "outputs": [
    {
     "name": "stdout",
     "output_type": "stream",
     "text": [
      "2\n",
      "2\n"
     ]
    }
   ],
   "source": [
    "# .get() -> dict method for returning optional default value when the key is absent\n",
    "\n",
    "print(all_counts['TC'])\n",
    "print(all_counts.get('TC'))"
   ]
  },
  {
   "cell_type": "code",
   "execution_count": 55,
   "metadata": {},
   "outputs": [
    {
     "ename": "KeyError",
     "evalue": "'TA'",
     "output_type": "error",
     "traceback": [
      "\u001b[0;31m---------------------------------------------------------------------------\u001b[0m",
      "\u001b[0;31mKeyError\u001b[0m                                  Traceback (most recent call last)",
      "\u001b[0;32m<ipython-input-55-8613fabe92c6>\u001b[0m in \u001b[0;36m<module>\u001b[0;34m\u001b[0m\n\u001b[0;32m----> 1\u001b[0;31m \u001b[0mprint\u001b[0m\u001b[0;34m(\u001b[0m\u001b[0mall_counts\u001b[0m\u001b[0;34m[\u001b[0m\u001b[0;34m'TA'\u001b[0m\u001b[0;34m]\u001b[0m\u001b[0;34m)\u001b[0m\u001b[0;34m\u001b[0m\u001b[0;34m\u001b[0m\u001b[0m\n\u001b[0m\u001b[1;32m      2\u001b[0m \u001b[0mprint\u001b[0m\u001b[0;34m(\u001b[0m\u001b[0mall_counts\u001b[0m\u001b[0;34m.\u001b[0m\u001b[0mget\u001b[0m\u001b[0;34m(\u001b[0m\u001b[0;34m'TA'\u001b[0m\u001b[0;34m)\u001b[0m\u001b[0;34m)\u001b[0m\u001b[0;34m\u001b[0m\u001b[0;34m\u001b[0m\u001b[0m\n",
      "\u001b[0;31mKeyError\u001b[0m: 'TA'"
     ]
    }
   ],
   "source": [
    "print(all_counts['TA'])\n",
    "print(all_counts.get('TA'))"
   ]
  },
  {
   "cell_type": "code",
   "execution_count": 56,
   "metadata": {},
   "outputs": [
    {
     "name": "stdout",
     "output_type": "stream",
     "text": [
      "count for TG is 2\n",
      "count for TT is 0\n",
      "count for GC is 0\n",
      "count for CG is 2\n"
     ]
    }
   ],
   "source": [
    "print(\"count for TG is \" + str(all_counts.get('TG', 0)))\n",
    "print(\"count for TT is \" + str(all_counts.get('TT', 0)))\n",
    "print(\"count for GC is \" + str(all_counts.get('GC', 0)))\n",
    "print(\"count for CG is \" + str(all_counts.get('CG', 0)))"
   ]
  },
  {
   "cell_type": "code",
   "execution_count": 2,
   "metadata": {},
   "outputs": [
    {
     "name": "stdout",
     "output_type": "stream",
     "text": [
      "{'AA': 2, 'TA': 0, 'GA': 3, 'CA': 0, 'AT': 2, 'TT': 0, 'GT': 0, 'CT': 0, 'AG': 0, 'TG': 2, 'GG': 0, 'CG': 1, 'AC': 2, 'TC': 0, 'GC': 0, 'CC': 0}\n"
     ]
    }
   ],
   "source": [
    "dna = 'AATGATGAACGAC'\n",
    "dinucleotides = ['AA', 'TA', 'GA', 'CA',\n",
    "                'AT', 'TT', 'GT', 'CT',\n",
    "                'AG', 'TG', 'GG', 'CG',\n",
    "                'AC', 'TC', 'GC', 'CC']\n",
    "all_counts = {}\n",
    "for dinucleotide in dinucleotides:\n",
    "    count = dna.count(dinucleotide)\n",
    "    all_counts[dinucleotide] = count\n",
    "\n",
    "print(all_counts)"
   ]
  },
  {
   "cell_type": "code",
   "execution_count": 22,
   "metadata": {},
   "outputs": [
    {
     "name": "stdout",
     "output_type": "stream",
     "text": [
      "{'AA': 2, 'GA': 3, 'AT': 2, 'TG': 2, 'CG': 1, 'AC': 2}\n"
     ]
    }
   ],
   "source": [
    "dna = 'AATGATGAACGAC'\n",
    "dinucleotides = ['AA', 'TA', 'GA', 'CA',\n",
    "                'AT', 'TT', 'GT', 'CT',\n",
    "                'AG', 'TG', 'GG', 'CG',\n",
    "                'AC', 'TC', 'GC', 'CC']\n",
    "all_counts = {}\n",
    "for dinucleotide in dinucleotides:\n",
    "    count = dna.count(dinucleotide)\n",
    "\n",
    "    if count > 0 :\n",
    "        all_counts[dinucleotide] = count\n",
    "\n",
    "print(all_counts)"
   ]
  },
  {
   "cell_type": "code",
   "execution_count": 23,
   "metadata": {},
   "outputs": [
    {
     "name": "stdout",
     "output_type": "stream",
     "text": [
      "count for AT is 2\n"
     ]
    }
   ],
   "source": [
    "print(\"count for AT is \" + str(all_counts.get('AT', 0)))"
   ]
  },
  {
   "cell_type": "code",
   "execution_count": 24,
   "metadata": {},
   "outputs": [
    {
     "name": "stdout",
     "output_type": "stream",
     "text": [
      "AA\n",
      "AT\n",
      "TG\n",
      "AC\n"
     ]
    }
   ],
   "source": [
    "for dinucleotide in dinucleotides:\n",
    "    if all_counts.get(dinucleotide, 0) == 2:\n",
    "        print(dinucleotide)"
   ]
  },
  {
   "cell_type": "code",
   "execution_count": 30,
   "metadata": {},
   "outputs": [
    {
     "name": "stdout",
     "output_type": "stream",
     "text": [
      "{'AA': 2, 'AT': 2, 'AC': 2, 'TG': 2, 'GA': 3, 'CG': 1}\n"
     ]
    }
   ],
   "source": [
    "dna = 'AATGATGAACGAC'\n",
    "bases = ['A', 'T', 'G', 'C']\n",
    "all_counts = {}\n",
    "\n",
    "for base1 in bases:\n",
    "    for base2 in bases:\n",
    "        dinucleotide = base1 + base2\n",
    "        count = dna.count(dinucleotide)\n",
    "        if count > 0:\n",
    "            all_counts[dinucleotide] = count\n",
    "print(all_counts)"
   ]
  },
  {
   "cell_type": "code",
   "execution_count": 31,
   "metadata": {},
   "outputs": [
    {
     "name": "stdout",
     "output_type": "stream",
     "text": [
      "dict_keys(['AA', 'AT', 'AC', 'TG', 'GA', 'CG'])\n"
     ]
    }
   ],
   "source": [
    "# .keys() : dict method for listing of the dict\n",
    "\n",
    "print(all_counts.keys())"
   ]
  },
  {
   "cell_type": "code",
   "execution_count": 34,
   "metadata": {},
   "outputs": [
    {
     "name": "stdout",
     "output_type": "stream",
     "text": [
      "AA\n",
      "AT\n",
      "AC\n",
      "TG\n"
     ]
    }
   ],
   "source": [
    "for dinucleotide in all_counts.keys():\n",
    "    if all_counts[dinucleotide] == 2:\n",
    "        print(dinucleotide)"
   ]
  },
  {
   "cell_type": "code",
   "execution_count": 36,
   "metadata": {},
   "outputs": [
    {
     "name": "stdout",
     "output_type": "stream",
     "text": [
      "AA\n",
      "AC\n",
      "AT\n",
      "TG\n"
     ]
    }
   ],
   "source": [
    "for dinucleotide in sorted(all_counts.keys()):\n",
    "    if all_counts[dinucleotide] == 2:\n",
    "        print(dinucleotide)"
   ]
  },
  {
   "cell_type": "code",
   "execution_count": 42,
   "metadata": {},
   "outputs": [
    {
     "name": "stdout",
     "output_type": "stream",
     "text": [
      "AA\n",
      "AC\n",
      "AT\n",
      "TG\n"
     ]
    }
   ],
   "source": [
    "# .items() : dict method\n",
    "\n",
    "for dinucleotide, count in sorted(all_counts.items()):\n",
    "    if count == 2:\n",
    "        print(dinucleotide)"
   ]
  }
 ],
 "metadata": {
  "kernelspec": {
   "display_name": "Python 3",
   "language": "python",
   "name": "python3"
  },
  "language_info": {
   "codemirror_mode": {
    "name": "ipython",
    "version": 3
   },
   "file_extension": ".py",
   "mimetype": "text/x-python",
   "name": "python",
   "nbconvert_exporter": "python",
   "pygments_lexer": "ipython3",
   "version": "3.8.5"
  }
 },
 "nbformat": 4,
 "nbformat_minor": 4
}
