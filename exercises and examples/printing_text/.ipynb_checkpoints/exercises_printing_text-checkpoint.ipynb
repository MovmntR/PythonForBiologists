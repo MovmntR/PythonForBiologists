{
 "cells": [
  {
   "cell_type": "markdown",
   "metadata": {},
   "source": [
    "# Calculating AT content"
   ]
  },
  {
   "cell_type": "code",
   "execution_count": 72,
   "metadata": {},
   "outputs": [
    {
     "name": "stdout",
     "output_type": "stream",
     "text": [
      "AT content : 0.46296296296296297\n"
     ]
    }
   ],
   "source": [
    "dna_sequence = \"ACTGATCGATTACGTATAGTATTTGCTATCATACATATATATCGATGCGTTCAT\"\n",
    "\n",
    "count_a = dna_sequence.count(\"A\")\n",
    "count_c = dna_sequence.count(\"C\")\n",
    "total = len(dna_sequence)\n",
    "\n",
    "at_content = (count_a + count_c) /total\n",
    "print(\"AT content :\", at_content)"
   ]
  },
  {
   "cell_type": "markdown",
   "metadata": {},
   "source": [
    "# Complementing DNA"
   ]
  },
  {
   "cell_type": "code",
   "execution_count": 84,
   "metadata": {},
   "outputs": [
    {
     "name": "stdout",
     "output_type": "stream",
     "text": [
      "A with T : TctgTtcgTttTcgtTtTgtTtttgctTtcTtTcTtTtTtTtcgTtgcgttcTt\n",
      "T with A : ACAGAACGAAAACGAAAAGAAAAAGCAAACAAACAAAAAAAACGAAGCGAACAA\n",
      "C with G : AGTGATGGATTAGGTATAGTATTTGGTATGATAGATATATATGGATGGGTTGAT\n",
      "\n",
      "Complementing DNA : TGACTAGCTAATGCATATCATAAACGATAGTATGTATATATAGCTACGCAAGTA\n"
     ]
    }
   ],
   "source": [
    "dna_sequence = \"ACTGATCGATTACGTATAGTATTTGCTATCATACATATATATCGATGCGTTCAT\"\n",
    "lower_dna_sequence = dna_sequence.lower()\n",
    "\n",
    "at_dna_sequence = lower_dna_sequence.replace(\"a\", \"T\")\n",
    "print(\"A with T :\", at_pair_dna_sequence)\n",
    "ta_dna_sequence = at_dna_sequence.replace(\"t\", \"A\")\n",
    "print(\"T with A :\", ta_pair_dna_sequence)\n",
    "cg_dna_sequence = ta_dna_sequence.replace(\"c\", \"G\")\n",
    "print(\"C with G :\", cg_pair_dna_sequence)\n",
    "gc_dna_sequence = cg_dna_sequence.replace(\"g\", \"C\")\n",
    "print(\"\\nComplementing DNA :\", gc_dna_sequence)"
   ]
  },
  {
   "cell_type": "markdown",
   "metadata": {},
   "source": [
    "# Restriction fragment lengths"
   ]
  },
  {
   "cell_type": "code",
   "execution_count": 86,
   "metadata": {},
   "outputs": [
    {
     "name": "stdout",
     "output_type": "stream",
     "text": [
      "First restriction fragment length : 22 \n",
      "Rest restriction fragment length : 33\n"
     ]
    }
   ],
   "source": [
    "dna_sequence = \"ACTGATCGATTACGTATAGTAGAATTCTATCATACATATATATCGATGCGTTCAT\"\n",
    "motif = \"G*AATTC\"\n",
    "\n",
    "dna_sequence.find(\"GAATTC\")\n",
    "dna_sequence[:22], dna_sequence[22:]\n",
    "print(\"First restriction fragment length :\", len(dna_sequence[:22]), \"\\nRest restriction fragment length :\", len(dna_sequence[22:]))"
   ]
  },
  {
   "cell_type": "markdown",
   "metadata": {},
   "source": [
    "# Splicing out introns, part one"
   ]
  },
  {
   "cell_type": "code",
   "execution_count": 99,
   "metadata": {},
   "outputs": [
    {
     "name": "stdout",
     "output_type": "stream",
     "text": [
      "Coding region : ATCGATCGATCGATCGACTGACTAGTCATAGCTATGCATGTAGCGATCGATCGATCGATCGATCATCGATCGATATCGATGCATCGACTACTAT\n"
     ]
    }
   ],
   "source": [
    "genomic_dna = \"ATCGATCGATCGATCGACTGACTAGTCATAGCTATGCATGTAGCGATCGATCGATCGATCGATCGATCGATCGATCGATCATGCTATCATCATCGATCGATATCGATGCATCGACTACTAT\"\n",
    "\n",
    "first_exon = genomic_dna[:63]\n",
    "second_exon = genomic_dna[90:]\n",
    "intron = genomic_dna[63:90]\n",
    "\n",
    "print(\"Coding region :\", first_exon + second_exon)"
   ]
  },
  {
   "cell_type": "markdown",
   "metadata": {},
   "source": [
    "# Splicing out introns, part two"
   ]
  },
  {
   "cell_type": "code",
   "execution_count": 100,
   "metadata": {},
   "outputs": [
    {
     "name": "stdout",
     "output_type": "stream",
     "text": [
      "Percentage of the DNA sequence : 78.51239669421489 %\n"
     ]
    }
   ],
   "source": [
    "genomic_dna\n",
    "coding_region = first_exon + second_exon\n",
    "\n",
    "percentage_coding_region = len(coding_region)/len(genomic_dna)\n",
    "print(\"Percentage of the DNA sequence :\", percentage*100, \"%\")"
   ]
  },
  {
   "cell_type": "markdown",
   "metadata": {},
   "source": [
    "# Splicing out introns, part three"
   ]
  },
  {
   "cell_type": "code",
   "execution_count": 103,
   "metadata": {},
   "outputs": [
    {
     "name": "stdout",
     "output_type": "stream",
     "text": [
      "ATCGATCGATCGATCGACTGACTAGTCATAGCTATGCATGTAGCGATCGATCGATCGATCGATcgatcgatcgatcgatcatgctatcatCATCGATCGATATCGATGCATCGACTACTAT\n"
     ]
    }
   ],
   "source": [
    "print(first_exon + intron.lower() + second_exon)"
   ]
  },
  {
   "cell_type": "code",
   "execution_count": null,
   "metadata": {},
   "outputs": [],
   "source": []
  }
 ],
 "metadata": {
  "kernelspec": {
   "display_name": "Python 3",
   "language": "python",
   "name": "python3"
  },
  "language_info": {
   "codemirror_mode": {
    "name": "ipython",
    "version": 3
   },
   "file_extension": ".py",
   "mimetype": "text/x-python",
   "name": "python",
   "nbconvert_exporter": "python",
   "pygments_lexer": "ipython3",
   "version": "3.8.5"
  }
 },
 "nbformat": 4,
 "nbformat_minor": 4
}
