{
 "cells": [
  {
   "cell_type": "code",
   "execution_count": 2,
   "metadata": {},
   "outputs": [],
   "source": [
    "import re"
   ]
  },
  {
   "cell_type": "markdown",
   "metadata": {},
   "source": [
    "# Accession names"
   ]
  },
  {
   "cell_type": "code",
   "execution_count": 28,
   "metadata": {},
   "outputs": [
    {
     "name": "stdout",
     "output_type": "stream",
     "text": [
      "\"accessions = ['xkn59438', 'yhdck2', 'eihd39d9', 'chdsye847', 'hedle3455', 'xjhd53e', '45da', 'de37dp']\"\n",
      "\n",
      "\n",
      "xkn59438\n",
      "hedle3455\n",
      "xjhd53e\n",
      "45da\n",
      "\n",
      "\n",
      "yhdck2\n",
      "eihd39d9\n",
      "chdsye847\n",
      "hedle3455\n",
      "xjhd53e\n",
      "45da\n",
      "de37dp\n",
      "\n",
      "\n",
      "chdsye847\n",
      "hedle3455\n",
      "xjhd53e\n",
      "de37dp\n",
      "\n",
      "\n",
      "hedle3455\n",
      "\n",
      "\n",
      "eihd39d9\n",
      "chdsye847\n",
      "hedle3455\n",
      "xjhd53e\n",
      "de37dp\n",
      "\n",
      "\n",
      "xkn59438\n",
      "yhdck2\n",
      "xjhd53e\n",
      "\n",
      "\n",
      "xjhd53e\n",
      "\n",
      "\n",
      "xkn59438\n",
      "chdsye847\n",
      "hedle3455\n",
      "\n",
      "\n",
      "45da\n",
      "de37dp\n"
     ]
    }
   ],
   "source": [
    "file = open(\"exercises/accessions.txt\")\n",
    "content = file.read()\n",
    "print(repr(content))\n",
    "\n",
    "accessions = ['xkn59438', 'yhdck2', 'eihd39d9', 'chdsye847', 'hedle3455', 'xjhd53e', '45da', 'de37dp']\n",
    "print('\\n')\n",
    "\n",
    "# contain the number 5\n",
    "for acc in accessions:\n",
    "    if re.search(r\"5\", acc):\n",
    "        print(acc)\n",
    "print('\\n')\n",
    "\n",
    "# contain the letter d or e\n",
    "for acc in accessions:\n",
    "    if re.search(r\"[de]\", acc):\n",
    "        print(acc)\n",
    "print('\\n')\n",
    "        \n",
    "# contain the letters d and e in that order\n",
    "for acc in accessions:\n",
    "    if re.search(r\"d.*e\", acc):\n",
    "        print(acc)\n",
    "print('\\n')\n",
    "        \n",
    "# contain the letter d and e in that order with a single letter between them\n",
    "for acc in accessions:\n",
    "    if re.search(r\"d.e\", acc):\n",
    "        print(acc)\n",
    "print('\\n')\n",
    "        \n",
    "# contain both the letters d and e in any order\n",
    "for acc in accessions:\n",
    "    if re.search(r\"(d.*e|e.*d)\", acc):\n",
    "        print(acc)\n",
    "print('\\n')\n",
    "        \n",
    "# start wiht x or y\n",
    "for acc in accessions:\n",
    "    if re.search(r\"^(x|y)\", acc):\n",
    "        print(acc)\n",
    "print('\\n')\n",
    "        \n",
    "# start with x or y and end with e\n",
    "for acc in accessions:\n",
    "    if re.search(r\"^(x|y).*e$\", acc):\n",
    "        print(acc)\n",
    "print('\\n')\n",
    "        \n",
    "# contain three or more digits in a row\n",
    "for acc in accessions:\n",
    "    if re.search(r\"[0123456789]{3,}\", acc):\n",
    "        print(acc)\n",
    "print('\\n')\n",
    "\n",
    "# end with d followed by either a,r or p\n",
    "for acc in accessions:\n",
    "    if re.search(r\"d[arp]$\", acc):\n",
    "        print(acc)\n",
    "\n",
    "file.close()"
   ]
  },
  {
   "cell_type": "markdown",
   "metadata": {},
   "source": [
    "# Double digist"
   ]
  },
  {
   "cell_type": "code",
   "execution_count": 70,
   "metadata": {},
   "outputs": [
    {
     "name": "stdout",
     "output_type": "stream",
     "text": [
      "[0, 488, 1143, 1577, 1628]\n",
      "[488, 655, 434, 51]\n"
     ]
    }
   ],
   "source": [
    "dna = open(\"exercises/dna.txt\").read().rstrip()\n",
    "# print(repr(dna))\n",
    "\n",
    "# N = [ACGT], R = [AG], W = [AT]\n",
    "sequences = re.findall(r\"A[ACGT]TAAT\", dna) + re.findall(r\"GC[AG][AT]TG\", dna)\n",
    "# print(sequences)\n",
    "\n",
    "cut_sites = [0]\n",
    "for m1 in re.finditer(r\"A[ACGT]TAAT\", dna):\n",
    "    if m1:\n",
    "        cut_sites.append(m1.start()+3)\n",
    "for m2 in re.finditer(r\"GC[AG][AT]TG\", dna):\n",
    "    if m2:\n",
    "        cut_sites.append(m2.start()+4)\n",
    "\n",
    "cut_sites.sort()\n",
    "print(cut_sites)\n",
    "\n",
    "lenthes = []\n",
    "for pose in cut_sites:\n",
    "    idx = cut_sites.index(pose)\n",
    "    if idx > 0:\n",
    "        length = cut_sites[idx] - cut_sites[idx - 1]\n",
    "        lenthes.append(length)\n",
    "print(lenthes)"
   ]
  }
 ],
 "metadata": {
  "kernelspec": {
   "display_name": "Python 3",
   "language": "python",
   "name": "python3"
  },
  "language_info": {
   "codemirror_mode": {
    "name": "ipython",
    "version": 3
   },
   "file_extension": ".py",
   "mimetype": "text/x-python",
   "name": "python",
   "nbconvert_exporter": "python",
   "pygments_lexer": "ipython3",
   "version": "3.8.5"
  }
 },
 "nbformat": 4,
 "nbformat_minor": 4
}
