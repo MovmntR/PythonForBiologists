{
 "cells": [
  {
   "cell_type": "code",
   "execution_count": 7,
   "metadata": {},
   "outputs": [
    {
     "name": "stdout",
     "output_type": "stream",
     "text": [
      "[['Drosophila melanogaster', 'atatatatatcgcgtatatatacgactatatgcattaattatagcatatcgatatatatatcgatattatatcgcattatacgcgcgtaattatatcgcgtaattacga', 'kdy647', '264'], ['Drosophila melanogaster', 'actgtgacgtgtactgtacgactatcgatacgtagtactgatcgctactgtaatgcatccatgctgacgtatctaagt', 'jdg766', '185'], ['Drosophila simulans', 'atcgatcatgtcgatcgatgatgcatccgactatcgtcgatcgtgatcgatcgatcgatcatcgatcgatgtcgatcatgtcgatatcgt', 'kdy533', '485'], ['Drosophila yakuba', 'cgcgcgctcgcgcatacggcctaatgcgcgcgctagcgatgc', 'hdt739', '85'], ['Drosophila ananassae', 'ttacgatcgatcgatcgatcgatcgtcgatcgtcgatgctacatcgatcatcatcggattagtcacatcgatcgatcatcgactgatcgtcgatcgtagatgctgacatcgatagca', 'hdu045', '356'], ['Drosophila ananassae', 'gcatcgatcgatcgcggcgcatcgatcgcgatcatcgatcatacgcgtcatatctatacgtcactgccgcgcgtatctacgcgatgactagctagact', 'teg436', '222']]\n"
     ]
    }
   ],
   "source": [
    "file = open(\"exercises/data.csv\")\n",
    "contents = file.readlines()\n",
    "\n",
    "data = []\n",
    "for content in contents:\n",
    "    content = content.rstrip().split(',')\n",
    "    data.append(content)\n",
    "print(data)\n",
    "\n",
    "file.close()"
   ]
  },
  {
   "cell_type": "markdown",
   "metadata": {},
   "source": [
    "# Several species"
   ]
  },
  {
   "cell_type": "code",
   "execution_count": 6,
   "metadata": {},
   "outputs": [
    {
     "name": "stdout",
     "output_type": "stream",
     "text": [
      "kdy647\n",
      "jdg766\n",
      "kdy533\n"
     ]
    }
   ],
   "source": [
    "for single_gene in data:\n",
    "    if single_gene[0] == 'Drosophila melanogaster' or single_gene[0] == 'Drosophila simulans':\n",
    "        print (single_gene[2])"
   ]
  },
  {
   "cell_type": "markdown",
   "metadata": {},
   "source": [
    "# Several species #2"
   ]
  },
  {
   "cell_type": "code",
   "execution_count": 37,
   "metadata": {},
   "outputs": [
    {
     "name": "stdout",
     "output_type": "stream",
     "text": [
      "kdy647\n",
      "jdg766\n",
      "kdy533\n"
     ]
    }
   ],
   "source": [
    "data = open(\"exercises/data.csv\")\n",
    "\n",
    "for line in data:\n",
    "    \n",
    "    columns = line.rstrip(\"\\n\").split(',')\n",
    "    species = columns[0]\n",
    "    sequence = columns[1]\n",
    "    name = columns[2]\n",
    "    expression = columns[3]\n",
    "    \n",
    "    if species == 'Drosophila melanogaster' or species =='Drosophila simulans':\n",
    "        print(name)\n",
    "\n",
    "data.close()"
   ]
  },
  {
   "cell_type": "markdown",
   "metadata": {},
   "source": [
    "# Length range"
   ]
  },
  {
   "cell_type": "code",
   "execution_count": 13,
   "metadata": {},
   "outputs": [
    {
     "name": "stdout",
     "output_type": "stream",
     "text": [
      "kdy647\n",
      "teg436\n"
     ]
    }
   ],
   "source": [
    "for single_gene in data:\n",
    "    if len(single_gene[1]) > 90 and len(single_gene[1]) < 110:\n",
    "        print (single_gene[2])"
   ]
  },
  {
   "cell_type": "markdown",
   "metadata": {},
   "source": [
    "# Length range #2"
   ]
  },
  {
   "cell_type": "code",
   "execution_count": 25,
   "metadata": {},
   "outputs": [
    {
     "name": "stdout",
     "output_type": "stream",
     "text": [
      "kdy647\n",
      "teg436\n"
     ]
    }
   ],
   "source": [
    "data = open(\"exercises/data.csv\")\n",
    "\n",
    "for line in data:\n",
    "    \n",
    "    columns = line.rstrip().split(',')\n",
    "    species = columns[0]\n",
    "    sequence = columns[1]\n",
    "    name = columns[2]\n",
    "    expression = columns[3]\n",
    "    \n",
    "    if 90 < len(sequence) < 110 :\n",
    "        print(name)"
   ]
  },
  {
   "cell_type": "markdown",
   "metadata": {},
   "source": [
    "# AT Content"
   ]
  },
  {
   "cell_type": "code",
   "execution_count": 21,
   "metadata": {},
   "outputs": [
    {
     "name": "stdout",
     "output_type": "stream",
     "text": [
      "teg436\n"
     ]
    }
   ],
   "source": [
    "for single_gene in data:\n",
    "    total = len(single_gene[1])\n",
    "    a_count = single_gene[1].upper().count('A')\n",
    "    t_count = single_gene[1].upper().count('T')\n",
    "    at_content = (a_count + t_count)/total\n",
    "    if at_content < 0.5 and int(single_gene[3]) > 200:\n",
    "        print (single_gene[2])"
   ]
  },
  {
   "cell_type": "markdown",
   "metadata": {},
   "source": [
    "# AT Content #2"
   ]
  },
  {
   "cell_type": "code",
   "execution_count": 35,
   "metadata": {},
   "outputs": [
    {
     "name": "stdout",
     "output_type": "stream",
     "text": [
      "teg436\n"
     ]
    }
   ],
   "source": [
    "def get_at_content(dna):\n",
    "    \n",
    "    total = len(dna)\n",
    "    a_count = dna.upper().count(\"A\")\n",
    "    t_count = dna.upper().count(\"T\")\n",
    "    at_content = (a_count + t_count) / total\n",
    "    return at_content\n",
    "\n",
    "\n",
    "data = open(\"exercises/data.csv\")\n",
    "\n",
    "for line in data:\n",
    "    \n",
    "    columns = line.rstrip('\\n').split(',')\n",
    "    species = columns[0]\n",
    "    sequence = columns[1]\n",
    "    name = columns[2]\n",
    "    expression = columns[3]\n",
    "    \n",
    "    if get_at_content(sequence) < 0.5 and int(expression) > 200:\n",
    "        print(name)\n",
    "        \n",
    "data.close()"
   ]
  },
  {
   "cell_type": "markdown",
   "metadata": {},
   "source": [
    "# Complex condition"
   ]
  },
  {
   "cell_type": "code",
   "execution_count": 22,
   "metadata": {},
   "outputs": [
    {
     "name": "stdout",
     "output_type": "stream",
     "text": [
      "kdy533\n",
      "hdt739\n",
      "hdu045\n"
     ]
    }
   ],
   "source": [
    "for single_gene in data:\n",
    "    if (single_gene[2].lower().startswith('k') or single_gene[2].lower().startswith('h')) and single_gene[0] != 'Drosophila melanogaster':\n",
    "        print (single_gene[2])\n"
   ]
  },
  {
   "cell_type": "markdown",
   "metadata": {},
   "source": [
    "# Complex condition #2"
   ]
  },
  {
   "cell_type": "code",
   "execution_count": 40,
   "metadata": {},
   "outputs": [
    {
     "name": "stdout",
     "output_type": "stream",
     "text": [
      "kdy533\n",
      "hdt739\n",
      "hdu045\n"
     ]
    }
   ],
   "source": [
    "data = open(\"exercises/data.csv\")\n",
    "\n",
    "for line in data:\n",
    "    columns = line.rstrip('\\n').split(',')\n",
    "    species = columns[0]\n",
    "    sequence = columns[1]\n",
    "    name = columns[2]\n",
    "    expression = columns[3]\n",
    "    \n",
    "    if ((name.lower().startswith('k') or name.lower().startswith('h')) \n",
    "        and species != 'Drosophila melanogaster'):\n",
    "        print(name)\n",
    "\n",
    "data.close()"
   ]
  },
  {
   "cell_type": "markdown",
   "metadata": {},
   "source": [
    "# High low medium"
   ]
  },
  {
   "cell_type": "code",
   "execution_count": 23,
   "metadata": {},
   "outputs": [
    {
     "name": "stdout",
     "output_type": "stream",
     "text": [
      "kdy647 : high\n",
      "jdg766 : medium\n",
      "kdy533 : medium\n",
      "hdt739 : low\n",
      "hdu045 : medium\n",
      "teg436 : medium\n"
     ]
    }
   ],
   "source": [
    "for single_gene in data:\n",
    "    total = len(single_gene[1])\n",
    "    a_count = single_gene[1].upper().count('A')\n",
    "    c_count = single_gene[1].upper().count('T')\n",
    "    at_content = (a_count + c_count) / total\n",
    "    content_lev = ''\n",
    "    if at_content > 0.65:\n",
    "        content_lev = 'high'\n",
    "    elif at_content < 0.45:\n",
    "        content_lev = 'low'\n",
    "    else:\n",
    "        content_lev = 'medium'\n",
    "    print (single_gene[2], ':', content_lev)"
   ]
  },
  {
   "cell_type": "markdown",
   "metadata": {},
   "source": [
    "# High low medium #2"
   ]
  },
  {
   "cell_type": "code",
   "execution_count": 43,
   "metadata": {},
   "outputs": [
    {
     "name": "stdout",
     "output_type": "stream",
     "text": [
      "kdy647, AT content is high.\n",
      "jdg766, AT content is medium.\n",
      "kdy533, AT content is medium.\n",
      "hdt739, AT content is low.\n",
      "hdu045, AT content is medium.\n",
      "teg436, AT content is medium.\n"
     ]
    }
   ],
   "source": [
    "def get_at_content(dna):\n",
    "\n",
    "    total = len(dna)\n",
    "    a_count = dna.upper().count('A')\n",
    "    t_count = dna.upper().count('T')\n",
    "    at_content = (a_count + t_count) / total\n",
    "    return at_content\n",
    "\n",
    "\n",
    "data = open('exercises/data.csv')\n",
    "\n",
    "for line in data:\n",
    "    columns = line.rstrip().split(',')\n",
    "    species = columns[0]\n",
    "    sequence = columns[1]\n",
    "    name = columns[2]\n",
    "    expression = columns[3]\n",
    "    \n",
    "    if get_at_content(sequence) > 0.65 :\n",
    "        print(name + \", AT content is high.\")\n",
    "    elif get_at_content(sequence) < 0.45 :\n",
    "        print(name + \", AT content is low.\")\n",
    "    else :\n",
    "        print(name + \", AT content is medium.\")\n",
    "\n",
    "data.close()"
   ]
  }
 ],
 "metadata": {
  "kernelspec": {
   "display_name": "Python 3",
   "language": "python",
   "name": "python3"
  },
  "language_info": {
   "codemirror_mode": {
    "name": "ipython",
    "version": 3
   },
   "file_extension": ".py",
   "mimetype": "text/x-python",
   "name": "python",
   "nbconvert_exporter": "python",
   "pygments_lexer": "ipython3",
   "version": "3.8.5"
  }
 },
 "nbformat": 4,
 "nbformat_minor": 4
}
