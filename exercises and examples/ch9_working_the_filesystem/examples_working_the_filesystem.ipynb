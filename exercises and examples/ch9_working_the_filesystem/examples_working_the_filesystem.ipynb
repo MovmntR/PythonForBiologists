{
 "cells": [
  {
   "cell_type": "code",
   "execution_count": 309,
   "metadata": {},
   "outputs": [],
   "source": [
    "import os\n",
    "import shutil\n",
    "import subprocess\n",
    "import sys"
   ]
  },
  {
   "cell_type": "code",
   "execution_count": 257,
   "metadata": {},
   "outputs": [],
   "source": [
    "# example 실습을 위한 파일 복사 \n",
    "# os.path.isdir() : is that path is dir?\n",
    "# os.path.join('.', 'text.txt') : 주어진 문자열 연결해서 path 생성\n",
    "\n",
    "path = '/Users/mo/for-biologists/exercises and examples/ch9_working_the_filesystem'\n",
    "os.chdir(path)\n",
    "\n",
    "for file in os.listdir( os.path.join( path, 'for_examples') ):\n",
    "    if os.path.exists(file):\n",
    "        continue\n",
    "    elif os.path.isdir( os.path.join( path, 'for_examples', file) ):\n",
    "        shutil.copytree( os.path.join( path, 'for_examples', file), os.path.join( path, file ) )\n",
    "    else:\n",
    "        shutil.copy( os.path.join( path, 'for_examples', file ), os.path.join( path, file ) )"
   ]
  },
  {
   "cell_type": "code",
   "execution_count": 258,
   "metadata": {},
   "outputs": [],
   "source": [
    "# Rename\n",
    "\n",
    "os.rename(\"old.txt\", \"new.txt\")"
   ]
  },
  {
   "cell_type": "code",
   "execution_count": 259,
   "metadata": {},
   "outputs": [],
   "source": [
    "# Rename\n",
    "\n",
    "os.rename(\"biology/old.txt\", \"biology/new.txt\")"
   ]
  },
  {
   "cell_type": "code",
   "execution_count": 260,
   "metadata": {},
   "outputs": [],
   "source": [
    "# move\n",
    "\n",
    "os.rename(\"biology/file.txt\", \"python/file.txt\")"
   ]
  },
  {
   "cell_type": "code",
   "execution_count": 261,
   "metadata": {},
   "outputs": [],
   "source": [
    "# make a dir\n",
    "\n",
    "os.mkdir(\"python_for_biology\")\n",
    "os.rename(\"python_for_biology\", \"new_folder\")"
   ]
  },
  {
   "cell_type": "code",
   "execution_count": 262,
   "metadata": {},
   "outputs": [],
   "source": [
    "# Rename\n",
    "\n",
    "os.mkdir(\"python_for_biology\")\n",
    "os.rename(\"python_for_biology\", \"new_folder\")"
   ]
  },
  {
   "cell_type": "code",
   "execution_count": 263,
   "metadata": {},
   "outputs": [],
   "source": [
    "# make a bunch of dir - If you don't have a parent folder, it will be made that, too, without any error message.\n",
    "\n",
    "os.makedirs(\"python/folder/new_new_folder\", exist_ok = True)"
   ]
  },
  {
   "cell_type": "code",
   "execution_count": 264,
   "metadata": {},
   "outputs": [
    {
     "data": {
      "text/plain": [
       "'python/copy.txt'"
      ]
     },
     "execution_count": 264,
     "metadata": {},
     "output_type": "execute_result"
    }
   ],
   "source": [
    "# copy a file\n",
    "\n",
    "shutil.copy(\"biology/original.txt\", \"python/copy.txt\")"
   ]
  },
  {
   "cell_type": "code",
   "execution_count": 265,
   "metadata": {},
   "outputs": [
    {
     "data": {
      "text/plain": [
       "'biology2'"
      ]
     },
     "execution_count": 265,
     "metadata": {},
     "output_type": "execute_result"
    }
   ],
   "source": [
    "# copy a whole folder\n",
    "\n",
    "shutil.copytree(\"biology\", \"biology2\")"
   ]
  },
  {
   "cell_type": "code",
   "execution_count": 266,
   "metadata": {},
   "outputs": [],
   "source": [
    "# remove a file\n",
    "\n",
    "os.remove(\"new.txt\")"
   ]
  },
  {
   "cell_type": "code",
   "execution_count": 267,
   "metadata": {},
   "outputs": [],
   "source": [
    "os.remove(\"biology/original.txt\")"
   ]
  },
  {
   "cell_type": "code",
   "execution_count": 268,
   "metadata": {},
   "outputs": [],
   "source": [
    "os.remove(\"biology/new.txt\")"
   ]
  },
  {
   "cell_type": "code",
   "execution_count": 269,
   "metadata": {},
   "outputs": [],
   "source": [
    "# remove a empty file\n",
    "\n",
    "os.rmdir(\"new_folder\")"
   ]
  },
  {
   "cell_type": "code",
   "execution_count": 270,
   "metadata": {},
   "outputs": [],
   "source": [
    "# delete a folder and all files in it\n",
    "\n",
    "shutil.rmtree(\"biology2\")"
   ]
  },
  {
   "cell_type": "code",
   "execution_count": 271,
   "metadata": {},
   "outputs": [],
   "source": [
    "shutil.rmtree(\"python\")"
   ]
  },
  {
   "cell_type": "code",
   "execution_count": 272,
   "metadata": {},
   "outputs": [],
   "source": [
    "shutil.rmtree(\"biology\")"
   ]
  },
  {
   "cell_type": "code",
   "execution_count": 273,
   "metadata": {},
   "outputs": [
    {
     "data": {
      "text/plain": [
       "['.DS_Store',\n",
       " 'for_examples',\n",
       " 'examples_working_the_filesystem.ipynb',\n",
       " 'exercises',\n",
       " 'examples',\n",
       " '.ipynb_checkpoints']"
      ]
     },
     "execution_count": 273,
     "metadata": {},
     "output_type": "execute_result"
    }
   ],
   "source": [
    "# make a list for dir\n",
    "\n",
    "os.listdir(\".\")"
   ]
  },
  {
   "cell_type": "code",
   "execution_count": 274,
   "metadata": {},
   "outputs": [
    {
     "data": {
      "text/plain": [
       "['exercises_printing_text.ipynb',\n",
       " 'exercises',\n",
       " 'examples',\n",
       " '.ipynb_checkpoints',\n",
       " 'examples_printing_text.ipynb']"
      ]
     },
     "execution_count": 274,
     "metadata": {},
     "output_type": "execute_result"
    }
   ],
   "source": [
    "os.listdir(\"../ch2_printing_text\")"
   ]
  },
  {
   "cell_type": "code",
   "execution_count": 275,
   "metadata": {},
   "outputs": [
    {
     "data": {
      "text/plain": [
       "'/Users/mo/for-biologists/exercises and examples/ch9_working_the_filesystem'"
      ]
     },
     "execution_count": 275,
     "metadata": {},
     "output_type": "execute_result"
    }
   ],
   "source": [
    "# get current working dir \n",
    "\n",
    "os.getcwd()"
   ]
  },
  {
   "cell_type": "code",
   "execution_count": 276,
   "metadata": {},
   "outputs": [],
   "source": [
    "# change working dir\n",
    "\n",
    "os.chdir(\"..\")"
   ]
  },
  {
   "cell_type": "code",
   "execution_count": 277,
   "metadata": {},
   "outputs": [
    {
     "data": {
      "text/plain": [
       "'/Users/mo/for-biologists/exercises and examples'"
      ]
     },
     "execution_count": 277,
     "metadata": {},
     "output_type": "execute_result"
    }
   ],
   "source": [
    "os.getcwd()"
   ]
  },
  {
   "cell_type": "code",
   "execution_count": 278,
   "metadata": {},
   "outputs": [
    {
     "data": {
      "text/plain": [
       "'/Users/mo/for-biologists/exercises and examples'"
      ]
     },
     "execution_count": 278,
     "metadata": {},
     "output_type": "execute_result"
    }
   ],
   "source": [
    "# os.path.abspath(path) : 절대 경로 얻기\n",
    "\n",
    "os.path.abspath(\".\")"
   ]
  },
  {
   "cell_type": "code",
   "execution_count": 291,
   "metadata": {},
   "outputs": [
    {
     "data": {
      "text/plain": [
       "0"
      ]
     },
     "execution_count": 291,
     "metadata": {},
     "output_type": "execute_result"
    }
   ],
   "source": [
    "subprocess.call('date')"
   ]
  },
  {
   "cell_type": "code",
   "execution_count": 292,
   "metadata": {},
   "outputs": [
    {
     "data": {
      "text/plain": [
       "0"
      ]
     },
     "execution_count": 292,
     "metadata": {},
     "output_type": "execute_result"
    }
   ],
   "source": [
    "subprocess.call('date +%B', shell=True)"
   ]
  },
  {
   "cell_type": "code",
   "execution_count": 293,
   "metadata": {},
   "outputs": [],
   "source": [
    "current_month = subprocess.check_output('date +%B', shell=True)"
   ]
  },
  {
   "cell_type": "code",
   "execution_count": 294,
   "metadata": {},
   "outputs": [
    {
     "name": "stdout",
     "output_type": "stream",
     "text": [
      "b'12\\xec\\x9b\\x94\\n'\n"
     ]
    }
   ],
   "source": [
    "print(current_month)"
   ]
  },
  {
   "cell_type": "code",
   "execution_count": 308,
   "metadata": {},
   "outputs": [
    {
     "name": "stdin",
     "output_type": "stream",
     "text": [
      "enter a number between 1 and 10 8\n"
     ]
    },
    {
     "name": "stdout",
     "output_type": "stream",
     "text": [
      "final answer is 8\n"
     ]
    }
   ],
   "source": [
    "answer = int()\n",
    "while answer < 1 or answer > 10 :\n",
    "    answer = int(input(\"enter a number between 1 and 10\"))\n",
    "print('final answer is ' + str(answer))"
   ]
  },
  {
   "cell_type": "code",
   "execution_count": 310,
   "metadata": {},
   "outputs": [
    {
     "name": "stdout",
     "output_type": "stream",
     "text": [
      "['/Users/mo/opt/anaconda3/lib/python3.8/site-packages/ipykernel_launcher.py', '-f', '/Users/mo/Library/Jupyter/runtime/kernel-23e119e2-eb4d-40e4-8c77-2a1a771cdf8a.json']\n"
     ]
    }
   ],
   "source": [
    "print(sys.argv)"
   ]
  }
 ],
 "metadata": {
  "kernelspec": {
   "display_name": "Python 3",
   "language": "python",
   "name": "python3"
  },
  "language_info": {
   "codemirror_mode": {
    "name": "ipython",
    "version": 3
   },
   "file_extension": ".py",
   "mimetype": "text/x-python",
   "name": "python",
   "nbconvert_exporter": "python",
   "pygments_lexer": "ipython3",
   "version": "3.8.5"
  }
 },
 "nbformat": 4,
 "nbformat_minor": 4
}
